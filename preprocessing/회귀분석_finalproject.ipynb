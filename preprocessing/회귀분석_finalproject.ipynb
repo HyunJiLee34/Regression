{
 "cells": [
  {
   "cell_type": "code",
   "execution_count": null,
   "metadata": {},
   "outputs": [],
   "source": [
    "# !pip install klib"
   ]
  },
  {
   "cell_type": "code",
   "execution_count": 147,
   "metadata": {
    "id": "EU6SbCTw1e0M"
   },
   "outputs": [],
   "source": [
    "import pandas as pd\n",
    "import klib\n",
    "import numpy as np\n",
    "import matplotlib.pylab as plt\n",
    "%matplotlib inline\n",
    "plt.rc('font', family='NanumBarunGothic')\n",
    "import seaborn as sns"
   ]
  },
  {
   "cell_type": "code",
   "execution_count": 148,
   "metadata": {
    "colab": {
     "base_uri": "https://localhost:8080/"
    },
    "id": "LB_jKQATDepT",
    "outputId": "357baca1-6cb0-4e97-b771-fd371df28f9d"
   },
   "outputs": [],
   "source": [
    "# 구글코랩에서 작업할때\n",
    "# from google.colab import drive\n",
    "# drive.mount('/content/drive')\n",
    "# path = \"/content/drive/MyDrive/회귀분석/\"\n",
    "# data = pd.read_csv(path + \"Hn19_all.csv\", encoding = 'cp949')"
   ]
  },
  {
   "cell_type": "code",
   "execution_count": 149,
   "metadata": {
    "colab": {
     "base_uri": "https://localhost:8080/"
    },
    "id": "hVBA7Q2x0jv5",
    "outputId": "34ef80c9-90eb-46c0-f258-85470553d60d"
   },
   "outputs": [
    {
     "name": "stderr",
     "output_type": "stream",
     "text": [
      "/opt/anaconda3/lib/python3.8/site-packages/IPython/core/interactiveshell.py:3165: DtypeWarning: Columns (105,311,327,378,397,503,512,515,528,539) have mixed types.Specify dtype option on import or set low_memory=False.\n",
      "  has_raised = await self.run_ast_nodes(code_ast.body, cell_name,\n"
     ]
    }
   ],
   "source": [
    "data = pd.read_csv(\"Hn19_all.csv\", encoding = 'cp949')\n",
    "df = data[[\"ID\",\"age\",\"BE3_86\", \"BE3_87\", \"BE3_88\", \"BE3_76\",\"BE3_77\",\"BE3_78\",\"DI1_dg\",\"DI2_dg\",\"DI3_dg\",\"DI4_dg\",\"DE1_dg\",\"DF2_dg\",\"BO1\",\"region\",\"sex\",\"ho_incm5\"]]"
   ]
  },
  {
   "cell_type": "markdown",
   "metadata": {
    "id": "K3dNio1t3sN7"
   },
   "source": [
    "# 이상치처리"
   ]
  },
  {
   "cell_type": "code",
   "execution_count": 150,
   "metadata": {
    "colab": {
     "base_uri": "https://localhost:8080/",
     "height": 424
    },
    "id": "vVUcAZW0-tZq",
    "outputId": "97605705-7c98-4906-ac58-b34e5c169e9b"
   },
   "outputs": [
    {
     "data": {
      "text/html": [
       "<div>\n",
       "<style scoped>\n",
       "    .dataframe tbody tr th:only-of-type {\n",
       "        vertical-align: middle;\n",
       "    }\n",
       "\n",
       "    .dataframe tbody tr th {\n",
       "        vertical-align: top;\n",
       "    }\n",
       "\n",
       "    .dataframe thead th {\n",
       "        text-align: right;\n",
       "    }\n",
       "</style>\n",
       "<table border=\"1\" class=\"dataframe\">\n",
       "  <thead>\n",
       "    <tr style=\"text-align: right;\">\n",
       "      <th></th>\n",
       "      <th>ID</th>\n",
       "      <th>age</th>\n",
       "      <th>BE3_86</th>\n",
       "      <th>BE3_87</th>\n",
       "      <th>BE3_88</th>\n",
       "      <th>BE3_76</th>\n",
       "      <th>BE3_77</th>\n",
       "      <th>BE3_78</th>\n",
       "      <th>DI1_dg</th>\n",
       "      <th>DI2_dg</th>\n",
       "      <th>DI3_dg</th>\n",
       "      <th>DI4_dg</th>\n",
       "      <th>DE1_dg</th>\n",
       "      <th>DF2_dg</th>\n",
       "      <th>BO1</th>\n",
       "      <th>region</th>\n",
       "      <th>sex</th>\n",
       "      <th>ho_incm5</th>\n",
       "    </tr>\n",
       "  </thead>\n",
       "  <tbody>\n",
       "    <tr>\n",
       "      <th>1</th>\n",
       "      <td>A501215303</td>\n",
       "      <td>28</td>\n",
       "      <td>8.0</td>\n",
       "      <td>88.0</td>\n",
       "      <td>88.0</td>\n",
       "      <td>8.0</td>\n",
       "      <td>88.0</td>\n",
       "      <td>88.0</td>\n",
       "      <td>0.0</td>\n",
       "      <td>0.0</td>\n",
       "      <td>0.0</td>\n",
       "      <td>0.0</td>\n",
       "      <td>0.0</td>\n",
       "      <td>1.0</td>\n",
       "      <td>1.0</td>\n",
       "      <td>1</td>\n",
       "      <td>1</td>\n",
       "      <td>2.0</td>\n",
       "    </tr>\n",
       "    <tr>\n",
       "      <th>11</th>\n",
       "      <td>A501235703</td>\n",
       "      <td>35</td>\n",
       "      <td>NaN</td>\n",
       "      <td>NaN</td>\n",
       "      <td>NaN</td>\n",
       "      <td>NaN</td>\n",
       "      <td>NaN</td>\n",
       "      <td>NaN</td>\n",
       "      <td>NaN</td>\n",
       "      <td>NaN</td>\n",
       "      <td>NaN</td>\n",
       "      <td>NaN</td>\n",
       "      <td>NaN</td>\n",
       "      <td>NaN</td>\n",
       "      <td>NaN</td>\n",
       "      <td>1</td>\n",
       "      <td>1</td>\n",
       "      <td>3.0</td>\n",
       "    </tr>\n",
       "    <tr>\n",
       "      <th>25</th>\n",
       "      <td>A501308801</td>\n",
       "      <td>29</td>\n",
       "      <td>8.0</td>\n",
       "      <td>88.0</td>\n",
       "      <td>88.0</td>\n",
       "      <td>8.0</td>\n",
       "      <td>88.0</td>\n",
       "      <td>88.0</td>\n",
       "      <td>0.0</td>\n",
       "      <td>0.0</td>\n",
       "      <td>0.0</td>\n",
       "      <td>0.0</td>\n",
       "      <td>0.0</td>\n",
       "      <td>0.0</td>\n",
       "      <td>3.0</td>\n",
       "      <td>1</td>\n",
       "      <td>2</td>\n",
       "      <td>3.0</td>\n",
       "    </tr>\n",
       "    <tr>\n",
       "      <th>26</th>\n",
       "      <td>A501308802</td>\n",
       "      <td>32</td>\n",
       "      <td>8.0</td>\n",
       "      <td>88.0</td>\n",
       "      <td>88.0</td>\n",
       "      <td>8.0</td>\n",
       "      <td>88.0</td>\n",
       "      <td>88.0</td>\n",
       "      <td>0.0</td>\n",
       "      <td>0.0</td>\n",
       "      <td>0.0</td>\n",
       "      <td>0.0</td>\n",
       "      <td>0.0</td>\n",
       "      <td>0.0</td>\n",
       "      <td>4.0</td>\n",
       "      <td>1</td>\n",
       "      <td>1</td>\n",
       "      <td>3.0</td>\n",
       "    </tr>\n",
       "    <tr>\n",
       "      <th>31</th>\n",
       "      <td>A501317302</td>\n",
       "      <td>22</td>\n",
       "      <td>2.0</td>\n",
       "      <td>0.0</td>\n",
       "      <td>15.0</td>\n",
       "      <td>8.0</td>\n",
       "      <td>88.0</td>\n",
       "      <td>88.0</td>\n",
       "      <td>0.0</td>\n",
       "      <td>0.0</td>\n",
       "      <td>0.0</td>\n",
       "      <td>0.0</td>\n",
       "      <td>0.0</td>\n",
       "      <td>0.0</td>\n",
       "      <td>4.0</td>\n",
       "      <td>1</td>\n",
       "      <td>2</td>\n",
       "      <td>3.0</td>\n",
       "    </tr>\n",
       "    <tr>\n",
       "      <th>...</th>\n",
       "      <td>...</td>\n",
       "      <td>...</td>\n",
       "      <td>...</td>\n",
       "      <td>...</td>\n",
       "      <td>...</td>\n",
       "      <td>...</td>\n",
       "      <td>...</td>\n",
       "      <td>...</td>\n",
       "      <td>...</td>\n",
       "      <td>...</td>\n",
       "      <td>...</td>\n",
       "      <td>...</td>\n",
       "      <td>...</td>\n",
       "      <td>...</td>\n",
       "      <td>...</td>\n",
       "      <td>...</td>\n",
       "      <td>...</td>\n",
       "      <td>...</td>\n",
       "    </tr>\n",
       "    <tr>\n",
       "      <th>8090</th>\n",
       "      <td>R504361501</td>\n",
       "      <td>38</td>\n",
       "      <td>8.0</td>\n",
       "      <td>88.0</td>\n",
       "      <td>88.0</td>\n",
       "      <td>8.0</td>\n",
       "      <td>88.0</td>\n",
       "      <td>88.0</td>\n",
       "      <td>0.0</td>\n",
       "      <td>0.0</td>\n",
       "      <td>0.0</td>\n",
       "      <td>0.0</td>\n",
       "      <td>0.0</td>\n",
       "      <td>0.0</td>\n",
       "      <td>5.0</td>\n",
       "      <td>8</td>\n",
       "      <td>2</td>\n",
       "      <td>5.0</td>\n",
       "    </tr>\n",
       "    <tr>\n",
       "      <th>8093</th>\n",
       "      <td>R504363202</td>\n",
       "      <td>38</td>\n",
       "      <td>2.0</td>\n",
       "      <td>0.0</td>\n",
       "      <td>20.0</td>\n",
       "      <td>8.0</td>\n",
       "      <td>88.0</td>\n",
       "      <td>88.0</td>\n",
       "      <td>0.0</td>\n",
       "      <td>0.0</td>\n",
       "      <td>0.0</td>\n",
       "      <td>0.0</td>\n",
       "      <td>0.0</td>\n",
       "      <td>0.0</td>\n",
       "      <td>3.0</td>\n",
       "      <td>8</td>\n",
       "      <td>2</td>\n",
       "      <td>3.0</td>\n",
       "    </tr>\n",
       "    <tr>\n",
       "      <th>8098</th>\n",
       "      <td>R504368303</td>\n",
       "      <td>24</td>\n",
       "      <td>8.0</td>\n",
       "      <td>88.0</td>\n",
       "      <td>88.0</td>\n",
       "      <td>8.0</td>\n",
       "      <td>88.0</td>\n",
       "      <td>88.0</td>\n",
       "      <td>0.0</td>\n",
       "      <td>0.0</td>\n",
       "      <td>0.0</td>\n",
       "      <td>0.0</td>\n",
       "      <td>0.0</td>\n",
       "      <td>0.0</td>\n",
       "      <td>2.0</td>\n",
       "      <td>8</td>\n",
       "      <td>2</td>\n",
       "      <td>3.0</td>\n",
       "    </tr>\n",
       "    <tr>\n",
       "      <th>8099</th>\n",
       "      <td>R504370001</td>\n",
       "      <td>26</td>\n",
       "      <td>8.0</td>\n",
       "      <td>88.0</td>\n",
       "      <td>88.0</td>\n",
       "      <td>8.0</td>\n",
       "      <td>88.0</td>\n",
       "      <td>88.0</td>\n",
       "      <td>0.0</td>\n",
       "      <td>0.0</td>\n",
       "      <td>0.0</td>\n",
       "      <td>0.0</td>\n",
       "      <td>0.0</td>\n",
       "      <td>0.0</td>\n",
       "      <td>3.0</td>\n",
       "      <td>8</td>\n",
       "      <td>2</td>\n",
       "      <td>4.0</td>\n",
       "    </tr>\n",
       "    <tr>\n",
       "      <th>8103</th>\n",
       "      <td>R504375103</td>\n",
       "      <td>26</td>\n",
       "      <td>8.0</td>\n",
       "      <td>88.0</td>\n",
       "      <td>88.0</td>\n",
       "      <td>8.0</td>\n",
       "      <td>88.0</td>\n",
       "      <td>88.0</td>\n",
       "      <td>0.0</td>\n",
       "      <td>0.0</td>\n",
       "      <td>0.0</td>\n",
       "      <td>0.0</td>\n",
       "      <td>0.0</td>\n",
       "      <td>0.0</td>\n",
       "      <td>3.0</td>\n",
       "      <td>8</td>\n",
       "      <td>2</td>\n",
       "      <td>5.0</td>\n",
       "    </tr>\n",
       "  </tbody>\n",
       "</table>\n",
       "<p>1734 rows × 18 columns</p>\n",
       "</div>"
      ],
      "text/plain": [
       "              ID  age  BE3_86  BE3_87  BE3_88  BE3_76  BE3_77  BE3_78  DI1_dg  \\\n",
       "1     A501215303   28     8.0    88.0    88.0     8.0    88.0    88.0     0.0   \n",
       "11    A501235703   35     NaN     NaN     NaN     NaN     NaN     NaN     NaN   \n",
       "25    A501308801   29     8.0    88.0    88.0     8.0    88.0    88.0     0.0   \n",
       "26    A501308802   32     8.0    88.0    88.0     8.0    88.0    88.0     0.0   \n",
       "31    A501317302   22     2.0     0.0    15.0     8.0    88.0    88.0     0.0   \n",
       "...          ...  ...     ...     ...     ...     ...     ...     ...     ...   \n",
       "8090  R504361501   38     8.0    88.0    88.0     8.0    88.0    88.0     0.0   \n",
       "8093  R504363202   38     2.0     0.0    20.0     8.0    88.0    88.0     0.0   \n",
       "8098  R504368303   24     8.0    88.0    88.0     8.0    88.0    88.0     0.0   \n",
       "8099  R504370001   26     8.0    88.0    88.0     8.0    88.0    88.0     0.0   \n",
       "8103  R504375103   26     8.0    88.0    88.0     8.0    88.0    88.0     0.0   \n",
       "\n",
       "      DI2_dg  DI3_dg  DI4_dg  DE1_dg  DF2_dg  BO1  region  sex  ho_incm5  \n",
       "1        0.0     0.0     0.0     0.0     1.0  1.0       1    1       2.0  \n",
       "11       NaN     NaN     NaN     NaN     NaN  NaN       1    1       3.0  \n",
       "25       0.0     0.0     0.0     0.0     0.0  3.0       1    2       3.0  \n",
       "26       0.0     0.0     0.0     0.0     0.0  4.0       1    1       3.0  \n",
       "31       0.0     0.0     0.0     0.0     0.0  4.0       1    2       3.0  \n",
       "...      ...     ...     ...     ...     ...  ...     ...  ...       ...  \n",
       "8090     0.0     0.0     0.0     0.0     0.0  5.0       8    2       5.0  \n",
       "8093     0.0     0.0     0.0     0.0     0.0  3.0       8    2       3.0  \n",
       "8098     0.0     0.0     0.0     0.0     0.0  2.0       8    2       3.0  \n",
       "8099     0.0     0.0     0.0     0.0     0.0  3.0       8    2       4.0  \n",
       "8103     0.0     0.0     0.0     0.0     0.0  3.0       8    2       5.0  \n",
       "\n",
       "[1734 rows x 18 columns]"
      ]
     },
     "metadata": {},
     "output_type": "display_data"
    }
   ],
   "source": [
    "# 20세에서 69세 사이로 표본 맞추기\n",
    "df_all = df.query(\"20<=age<=39\")\n",
    "display(df_all)"
   ]
  },
  {
   "cell_type": "code",
   "execution_count": 151,
   "metadata": {
    "colab": {
     "base_uri": "https://localhost:8080/"
    },
    "id": "hackjyho7fX-",
    "outputId": "ae6ef7e2-2f83-4f0e-ebdd-93b1029b617d"
   },
   "outputs": [
    {
     "name": "stdout",
     "output_type": "stream",
     "text": [
      "연령대에 벗어난 인원은 6376 명입니다\n"
     ]
    }
   ],
   "source": [
    "print(\"연령대에 벗어난 인원은\" , len(data)- len(df_all),\"명입니다\")"
   ]
  },
  {
   "cell_type": "code",
   "execution_count": 152,
   "metadata": {
    "id": "Xm1v1sHDDVij"
   },
   "outputs": [],
   "source": [
    "klib.missingval_plot(df_all)"
   ]
  },
  {
   "cell_type": "code",
   "execution_count": 153,
   "metadata": {
    "colab": {
     "base_uri": "https://localhost:8080/"
    },
    "id": "8-3FUQOxAcD8",
    "outputId": "4a45977a-d4f4-402a-faed-1156f91c7127"
   },
   "outputs": [
    {
     "name": "stdout",
     "output_type": "stream",
     "text": [
      "ID            0\n",
      "age           0\n",
      "BE3_86      113\n",
      "BE3_87      113\n",
      "BE3_88      113\n",
      "BE3_76      113\n",
      "BE3_77      113\n",
      "BE3_78      113\n",
      "DI1_dg      113\n",
      "DI2_dg      113\n",
      "DI3_dg      113\n",
      "DI4_dg      186\n",
      "DE1_dg      113\n",
      "DF2_dg      113\n",
      "BO1         113\n",
      "region        0\n",
      "sex           0\n",
      "ho_incm5      8\n",
      "dtype: int64\n",
      "(1734, 18)\n"
     ]
    }
   ],
   "source": [
    "#종속변수의 정보가 없는 id 확인\n",
    "print(df_all.isnull().sum())\n",
    "print(df_all.shape)"
   ]
  },
  {
   "cell_type": "code",
   "execution_count": 154,
   "metadata": {
    "colab": {
     "base_uri": "https://localhost:8080/"
    },
    "id": "uZMZrzyT_QLX",
    "outputId": "e0fa993f-25bc-45ff-d68e-c5562991aa92"
   },
   "outputs": [
    {
     "name": "stdout",
     "output_type": "stream",
     "text": [
      "종속변수에 결측치가 있어 제거한 인원은 113 명입니다\n",
      "종속변수에 해당하는 변수 들 중 무응답자 및 모름이라 답하여 제거한 인원은 1032 명입니다.\n"
     ]
    }
   ],
   "source": [
    "#y에 해당하는 변수들 중 null이 있을 시 제거\n",
    "print(\"종속변수에 결측치가 있어 제거한 인원은\", df_all.BE3_86.isnull().sum(), \"명입니다\")\n",
    "df_all = df_all.dropna(subset=[\"BE3_86\", \"BE3_87\", \"BE3_88\", \"BE3_76\",\"BE3_77\",\"BE3_78\"])\n",
    "\n",
    "# y에 해당하는 변수들 중 중강도 + 고강도 운동 비해당자와 무응답자 확인\n",
    "data_drop = df_all.query(\"BE3_86 ==8.0 & BE3_87 ==88.0 & BE3_88 ==88.0 & BE3_76 ==8.0 & BE3_77 ==88.0 & BE3_78 ==88.0\")\n",
    "# len(data_drop)\n",
    "# 모름이면 삭제\n",
    "data_drop_2 = df_all.query(\"BE3_86 ==9.0 | BE3_87 ==99.0 | BE3_88 ==99.0 | BE3_76 ==9.0 | BE3_77 ==99.0 | BE3_78 ==99.0\")\n",
    "# len(data_drop2)\n",
    "\n",
    "print(\"종속변수에 해당하는 변수 들 중 무응답자 및 모름이라 답하여 제거한 인원은\", len(data_drop)+len(data_drop_2), \"명입니다.\")"
   ]
  },
  {
   "cell_type": "code",
   "execution_count": 155,
   "metadata": {
    "id": "wpvsuCkXKjtq"
   },
   "outputs": [],
   "source": [
    "df_all = df_all.set_index(\"ID\")\n",
    "drop_idx=data_drop.set_index(\"ID\").index\n",
    "df_all.drop(drop_idx,inplace=True)\n",
    "drop_idx=data_drop_2.set_index(\"ID\").index\n",
    "df_all.drop(drop_idx,inplace=True)"
   ]
  },
  {
   "cell_type": "code",
   "execution_count": 156,
   "metadata": {
    "colab": {
     "base_uri": "https://localhost:8080/",
     "height": 424
    },
    "id": "NTLkpbLDIThW",
    "outputId": "5b4d5d95-f190-4e87-d53f-aaf9d91dbe82"
   },
   "outputs": [
    {
     "data": {
      "text/html": [
       "<div>\n",
       "<style scoped>\n",
       "    .dataframe tbody tr th:only-of-type {\n",
       "        vertical-align: middle;\n",
       "    }\n",
       "\n",
       "    .dataframe tbody tr th {\n",
       "        vertical-align: top;\n",
       "    }\n",
       "\n",
       "    .dataframe thead th {\n",
       "        text-align: right;\n",
       "    }\n",
       "</style>\n",
       "<table border=\"1\" class=\"dataframe\">\n",
       "  <thead>\n",
       "    <tr style=\"text-align: right;\">\n",
       "      <th></th>\n",
       "      <th>ID</th>\n",
       "      <th>age</th>\n",
       "      <th>BE3_86</th>\n",
       "      <th>BE3_87</th>\n",
       "      <th>BE3_88</th>\n",
       "      <th>BE3_76</th>\n",
       "      <th>BE3_77</th>\n",
       "      <th>BE3_78</th>\n",
       "      <th>DI1_dg</th>\n",
       "      <th>DI2_dg</th>\n",
       "      <th>DI3_dg</th>\n",
       "      <th>DI4_dg</th>\n",
       "      <th>DE1_dg</th>\n",
       "      <th>DF2_dg</th>\n",
       "      <th>BO1</th>\n",
       "      <th>region</th>\n",
       "      <th>sex</th>\n",
       "      <th>ho_incm5</th>\n",
       "    </tr>\n",
       "  </thead>\n",
       "  <tbody>\n",
       "    <tr>\n",
       "      <th>0</th>\n",
       "      <td>A501317302</td>\n",
       "      <td>22</td>\n",
       "      <td>2.0</td>\n",
       "      <td>0.0</td>\n",
       "      <td>15.0</td>\n",
       "      <td>8.0</td>\n",
       "      <td>88.0</td>\n",
       "      <td>88.0</td>\n",
       "      <td>0.0</td>\n",
       "      <td>0.0</td>\n",
       "      <td>0.0</td>\n",
       "      <td>0.0</td>\n",
       "      <td>0.0</td>\n",
       "      <td>0.0</td>\n",
       "      <td>4.0</td>\n",
       "      <td>1</td>\n",
       "      <td>2</td>\n",
       "      <td>3.0</td>\n",
       "    </tr>\n",
       "    <tr>\n",
       "      <th>1</th>\n",
       "      <td>A502336001</td>\n",
       "      <td>30</td>\n",
       "      <td>1.0</td>\n",
       "      <td>1.0</td>\n",
       "      <td>0.0</td>\n",
       "      <td>1.0</td>\n",
       "      <td>0.0</td>\n",
       "      <td>30.0</td>\n",
       "      <td>0.0</td>\n",
       "      <td>0.0</td>\n",
       "      <td>0.0</td>\n",
       "      <td>0.0</td>\n",
       "      <td>0.0</td>\n",
       "      <td>0.0</td>\n",
       "      <td>3.0</td>\n",
       "      <td>1</td>\n",
       "      <td>2</td>\n",
       "      <td>5.0</td>\n",
       "    </tr>\n",
       "    <tr>\n",
       "      <th>2</th>\n",
       "      <td>A502347901</td>\n",
       "      <td>27</td>\n",
       "      <td>3.0</td>\n",
       "      <td>1.0</td>\n",
       "      <td>0.0</td>\n",
       "      <td>8.0</td>\n",
       "      <td>88.0</td>\n",
       "      <td>88.0</td>\n",
       "      <td>0.0</td>\n",
       "      <td>0.0</td>\n",
       "      <td>0.0</td>\n",
       "      <td>0.0</td>\n",
       "      <td>0.0</td>\n",
       "      <td>0.0</td>\n",
       "      <td>3.0</td>\n",
       "      <td>1</td>\n",
       "      <td>2</td>\n",
       "      <td>3.0</td>\n",
       "    </tr>\n",
       "    <tr>\n",
       "      <th>3</th>\n",
       "      <td>A502351301</td>\n",
       "      <td>31</td>\n",
       "      <td>3.0</td>\n",
       "      <td>0.0</td>\n",
       "      <td>40.0</td>\n",
       "      <td>8.0</td>\n",
       "      <td>88.0</td>\n",
       "      <td>88.0</td>\n",
       "      <td>0.0</td>\n",
       "      <td>0.0</td>\n",
       "      <td>0.0</td>\n",
       "      <td>0.0</td>\n",
       "      <td>0.0</td>\n",
       "      <td>0.0</td>\n",
       "      <td>5.0</td>\n",
       "      <td>1</td>\n",
       "      <td>1</td>\n",
       "      <td>5.0</td>\n",
       "    </tr>\n",
       "    <tr>\n",
       "      <th>4</th>\n",
       "      <td>A502378501</td>\n",
       "      <td>38</td>\n",
       "      <td>3.0</td>\n",
       "      <td>0.0</td>\n",
       "      <td>40.0</td>\n",
       "      <td>8.0</td>\n",
       "      <td>88.0</td>\n",
       "      <td>88.0</td>\n",
       "      <td>0.0</td>\n",
       "      <td>0.0</td>\n",
       "      <td>0.0</td>\n",
       "      <td>0.0</td>\n",
       "      <td>0.0</td>\n",
       "      <td>0.0</td>\n",
       "      <td>4.0</td>\n",
       "      <td>1</td>\n",
       "      <td>1</td>\n",
       "      <td>4.0</td>\n",
       "    </tr>\n",
       "    <tr>\n",
       "      <th>...</th>\n",
       "      <td>...</td>\n",
       "      <td>...</td>\n",
       "      <td>...</td>\n",
       "      <td>...</td>\n",
       "      <td>...</td>\n",
       "      <td>...</td>\n",
       "      <td>...</td>\n",
       "      <td>...</td>\n",
       "      <td>...</td>\n",
       "      <td>...</td>\n",
       "      <td>...</td>\n",
       "      <td>...</td>\n",
       "      <td>...</td>\n",
       "      <td>...</td>\n",
       "      <td>...</td>\n",
       "      <td>...</td>\n",
       "      <td>...</td>\n",
       "      <td>...</td>\n",
       "    </tr>\n",
       "    <tr>\n",
       "      <th>584</th>\n",
       "      <td>R504235701</td>\n",
       "      <td>39</td>\n",
       "      <td>4.0</td>\n",
       "      <td>1.0</td>\n",
       "      <td>0.0</td>\n",
       "      <td>8.0</td>\n",
       "      <td>88.0</td>\n",
       "      <td>88.0</td>\n",
       "      <td>0.0</td>\n",
       "      <td>0.0</td>\n",
       "      <td>0.0</td>\n",
       "      <td>0.0</td>\n",
       "      <td>0.0</td>\n",
       "      <td>0.0</td>\n",
       "      <td>3.0</td>\n",
       "      <td>8</td>\n",
       "      <td>2</td>\n",
       "      <td>3.0</td>\n",
       "    </tr>\n",
       "    <tr>\n",
       "      <th>585</th>\n",
       "      <td>R504240804</td>\n",
       "      <td>26</td>\n",
       "      <td>8.0</td>\n",
       "      <td>88.0</td>\n",
       "      <td>88.0</td>\n",
       "      <td>2.0</td>\n",
       "      <td>0.0</td>\n",
       "      <td>25.0</td>\n",
       "      <td>0.0</td>\n",
       "      <td>0.0</td>\n",
       "      <td>0.0</td>\n",
       "      <td>0.0</td>\n",
       "      <td>0.0</td>\n",
       "      <td>0.0</td>\n",
       "      <td>4.0</td>\n",
       "      <td>8</td>\n",
       "      <td>2</td>\n",
       "      <td>5.0</td>\n",
       "    </tr>\n",
       "    <tr>\n",
       "      <th>586</th>\n",
       "      <td>R504240805</td>\n",
       "      <td>22</td>\n",
       "      <td>3.0</td>\n",
       "      <td>0.0</td>\n",
       "      <td>30.0</td>\n",
       "      <td>8.0</td>\n",
       "      <td>88.0</td>\n",
       "      <td>88.0</td>\n",
       "      <td>0.0</td>\n",
       "      <td>0.0</td>\n",
       "      <td>0.0</td>\n",
       "      <td>0.0</td>\n",
       "      <td>0.0</td>\n",
       "      <td>0.0</td>\n",
       "      <td>3.0</td>\n",
       "      <td>8</td>\n",
       "      <td>1</td>\n",
       "      <td>5.0</td>\n",
       "    </tr>\n",
       "    <tr>\n",
       "      <th>587</th>\n",
       "      <td>R504358101</td>\n",
       "      <td>39</td>\n",
       "      <td>8.0</td>\n",
       "      <td>88.0</td>\n",
       "      <td>88.0</td>\n",
       "      <td>2.0</td>\n",
       "      <td>0.0</td>\n",
       "      <td>15.0</td>\n",
       "      <td>0.0</td>\n",
       "      <td>0.0</td>\n",
       "      <td>0.0</td>\n",
       "      <td>0.0</td>\n",
       "      <td>0.0</td>\n",
       "      <td>0.0</td>\n",
       "      <td>4.0</td>\n",
       "      <td>8</td>\n",
       "      <td>1</td>\n",
       "      <td>4.0</td>\n",
       "    </tr>\n",
       "    <tr>\n",
       "      <th>588</th>\n",
       "      <td>R504363202</td>\n",
       "      <td>38</td>\n",
       "      <td>2.0</td>\n",
       "      <td>0.0</td>\n",
       "      <td>20.0</td>\n",
       "      <td>8.0</td>\n",
       "      <td>88.0</td>\n",
       "      <td>88.0</td>\n",
       "      <td>0.0</td>\n",
       "      <td>0.0</td>\n",
       "      <td>0.0</td>\n",
       "      <td>0.0</td>\n",
       "      <td>0.0</td>\n",
       "      <td>0.0</td>\n",
       "      <td>3.0</td>\n",
       "      <td>8</td>\n",
       "      <td>2</td>\n",
       "      <td>3.0</td>\n",
       "    </tr>\n",
       "  </tbody>\n",
       "</table>\n",
       "<p>589 rows × 18 columns</p>\n",
       "</div>"
      ],
      "text/plain": [
       "             ID  age  BE3_86  BE3_87  BE3_88  BE3_76  BE3_77  BE3_78  DI1_dg  \\\n",
       "0    A501317302   22     2.0     0.0    15.0     8.0    88.0    88.0     0.0   \n",
       "1    A502336001   30     1.0     1.0     0.0     1.0     0.0    30.0     0.0   \n",
       "2    A502347901   27     3.0     1.0     0.0     8.0    88.0    88.0     0.0   \n",
       "3    A502351301   31     3.0     0.0    40.0     8.0    88.0    88.0     0.0   \n",
       "4    A502378501   38     3.0     0.0    40.0     8.0    88.0    88.0     0.0   \n",
       "..          ...  ...     ...     ...     ...     ...     ...     ...     ...   \n",
       "584  R504235701   39     4.0     1.0     0.0     8.0    88.0    88.0     0.0   \n",
       "585  R504240804   26     8.0    88.0    88.0     2.0     0.0    25.0     0.0   \n",
       "586  R504240805   22     3.0     0.0    30.0     8.0    88.0    88.0     0.0   \n",
       "587  R504358101   39     8.0    88.0    88.0     2.0     0.0    15.0     0.0   \n",
       "588  R504363202   38     2.0     0.0    20.0     8.0    88.0    88.0     0.0   \n",
       "\n",
       "     DI2_dg  DI3_dg  DI4_dg  DE1_dg  DF2_dg  BO1  region  sex  ho_incm5  \n",
       "0       0.0     0.0     0.0     0.0     0.0  4.0       1    2       3.0  \n",
       "1       0.0     0.0     0.0     0.0     0.0  3.0       1    2       5.0  \n",
       "2       0.0     0.0     0.0     0.0     0.0  3.0       1    2       3.0  \n",
       "3       0.0     0.0     0.0     0.0     0.0  5.0       1    1       5.0  \n",
       "4       0.0     0.0     0.0     0.0     0.0  4.0       1    1       4.0  \n",
       "..      ...     ...     ...     ...     ...  ...     ...  ...       ...  \n",
       "584     0.0     0.0     0.0     0.0     0.0  3.0       8    2       3.0  \n",
       "585     0.0     0.0     0.0     0.0     0.0  4.0       8    2       5.0  \n",
       "586     0.0     0.0     0.0     0.0     0.0  3.0       8    1       5.0  \n",
       "587     0.0     0.0     0.0     0.0     0.0  4.0       8    1       4.0  \n",
       "588     0.0     0.0     0.0     0.0     0.0  3.0       8    2       3.0  \n",
       "\n",
       "[589 rows x 18 columns]"
      ]
     },
     "execution_count": 156,
     "metadata": {},
     "output_type": "execute_result"
    }
   ],
   "source": [
    "df_all = df_all.reset_index(); df_all"
   ]
  },
  {
   "cell_type": "code",
   "execution_count": 157,
   "metadata": {
    "colab": {
     "base_uri": "https://localhost:8080/"
    },
    "id": "GeD5Gib7Bg5o",
    "outputId": "b3b2fb80-46ad-470d-85ea-b6be3e0954fc"
   },
   "outputs": [
    {
     "data": {
      "text/plain": [
       "ID          0\n",
       "age         0\n",
       "BE3_86      0\n",
       "BE3_87      0\n",
       "BE3_88      0\n",
       "BE3_76      0\n",
       "BE3_77      0\n",
       "BE3_78      0\n",
       "DI1_dg      0\n",
       "DI2_dg      0\n",
       "DI3_dg      0\n",
       "DI4_dg      0\n",
       "DE1_dg      0\n",
       "DF2_dg      0\n",
       "BO1         0\n",
       "region      0\n",
       "sex         0\n",
       "ho_incm5    2\n",
       "dtype: int64"
      ]
     },
     "execution_count": 157,
     "metadata": {},
     "output_type": "execute_result"
    }
   ],
   "source": [
    "df_all.isnull().sum()"
   ]
  },
  {
   "cell_type": "code",
   "execution_count": 158,
   "metadata": {
    "colab": {
     "base_uri": "https://localhost:8080/"
    },
    "id": "z56cK7I8FX6L",
    "outputId": "cde8b413-5403-414c-e231-5ed11771c066"
   },
   "outputs": [],
   "source": [
    "#결측값이 남아있는 '소득' 탐색\n",
    "df_all.query(\"ho_incm5!=ho_incm5\")\n",
    "# print(\"독립변수인 '소득'에 결측치가 있어 제거한 인원은\", len(df_all.query(\"ho_incm5!=ho_incm5\")), \"명입니다\")\n",
    "# 5명 밖에 되지 않기 때문에 이 사람들 제거\n",
    "df_all = df_all[df_all.ID != 'A524252703']\n",
    "df_all = df_all[df_all.ID != 'H502191504']\n",
    "\n"
   ]
  },
  {
   "cell_type": "code",
   "execution_count": 159,
   "metadata": {
    "id": "Ct5f0feCNGFC"
   },
   "outputs": [
    {
     "data": {
      "text/html": [
       "<div>\n",
       "<style scoped>\n",
       "    .dataframe tbody tr th:only-of-type {\n",
       "        vertical-align: middle;\n",
       "    }\n",
       "\n",
       "    .dataframe tbody tr th {\n",
       "        vertical-align: top;\n",
       "    }\n",
       "\n",
       "    .dataframe thead th {\n",
       "        text-align: right;\n",
       "    }\n",
       "</style>\n",
       "<table border=\"1\" class=\"dataframe\">\n",
       "  <thead>\n",
       "    <tr style=\"text-align: right;\">\n",
       "      <th></th>\n",
       "      <th>age</th>\n",
       "      <th>BE3_86</th>\n",
       "      <th>BE3_87</th>\n",
       "      <th>BE3_88</th>\n",
       "      <th>BE3_76</th>\n",
       "      <th>BE3_77</th>\n",
       "      <th>BE3_78</th>\n",
       "      <th>DI1_dg</th>\n",
       "      <th>DI2_dg</th>\n",
       "      <th>DI3_dg</th>\n",
       "      <th>DI4_dg</th>\n",
       "      <th>DE1_dg</th>\n",
       "      <th>DF2_dg</th>\n",
       "      <th>BO1</th>\n",
       "      <th>region</th>\n",
       "      <th>sex</th>\n",
       "      <th>ho_incm5</th>\n",
       "    </tr>\n",
       "    <tr>\n",
       "      <th>ID</th>\n",
       "      <th></th>\n",
       "      <th></th>\n",
       "      <th></th>\n",
       "      <th></th>\n",
       "      <th></th>\n",
       "      <th></th>\n",
       "      <th></th>\n",
       "      <th></th>\n",
       "      <th></th>\n",
       "      <th></th>\n",
       "      <th></th>\n",
       "      <th></th>\n",
       "      <th></th>\n",
       "      <th></th>\n",
       "      <th></th>\n",
       "      <th></th>\n",
       "      <th></th>\n",
       "    </tr>\n",
       "  </thead>\n",
       "  <tbody>\n",
       "    <tr>\n",
       "      <th>A501317302</th>\n",
       "      <td>22</td>\n",
       "      <td>2.0</td>\n",
       "      <td>0.0</td>\n",
       "      <td>15.0</td>\n",
       "      <td>8.0</td>\n",
       "      <td>88.0</td>\n",
       "      <td>88.0</td>\n",
       "      <td>0.0</td>\n",
       "      <td>0.0</td>\n",
       "      <td>0.0</td>\n",
       "      <td>0.0</td>\n",
       "      <td>0.0</td>\n",
       "      <td>0.0</td>\n",
       "      <td>4.0</td>\n",
       "      <td>1</td>\n",
       "      <td>2</td>\n",
       "      <td>3.0</td>\n",
       "    </tr>\n",
       "    <tr>\n",
       "      <th>A502336001</th>\n",
       "      <td>30</td>\n",
       "      <td>1.0</td>\n",
       "      <td>1.0</td>\n",
       "      <td>0.0</td>\n",
       "      <td>1.0</td>\n",
       "      <td>0.0</td>\n",
       "      <td>30.0</td>\n",
       "      <td>0.0</td>\n",
       "      <td>0.0</td>\n",
       "      <td>0.0</td>\n",
       "      <td>0.0</td>\n",
       "      <td>0.0</td>\n",
       "      <td>0.0</td>\n",
       "      <td>3.0</td>\n",
       "      <td>1</td>\n",
       "      <td>2</td>\n",
       "      <td>5.0</td>\n",
       "    </tr>\n",
       "    <tr>\n",
       "      <th>A502347901</th>\n",
       "      <td>27</td>\n",
       "      <td>3.0</td>\n",
       "      <td>1.0</td>\n",
       "      <td>0.0</td>\n",
       "      <td>8.0</td>\n",
       "      <td>88.0</td>\n",
       "      <td>88.0</td>\n",
       "      <td>0.0</td>\n",
       "      <td>0.0</td>\n",
       "      <td>0.0</td>\n",
       "      <td>0.0</td>\n",
       "      <td>0.0</td>\n",
       "      <td>0.0</td>\n",
       "      <td>3.0</td>\n",
       "      <td>1</td>\n",
       "      <td>2</td>\n",
       "      <td>3.0</td>\n",
       "    </tr>\n",
       "    <tr>\n",
       "      <th>A502351301</th>\n",
       "      <td>31</td>\n",
       "      <td>3.0</td>\n",
       "      <td>0.0</td>\n",
       "      <td>40.0</td>\n",
       "      <td>8.0</td>\n",
       "      <td>88.0</td>\n",
       "      <td>88.0</td>\n",
       "      <td>0.0</td>\n",
       "      <td>0.0</td>\n",
       "      <td>0.0</td>\n",
       "      <td>0.0</td>\n",
       "      <td>0.0</td>\n",
       "      <td>0.0</td>\n",
       "      <td>5.0</td>\n",
       "      <td>1</td>\n",
       "      <td>1</td>\n",
       "      <td>5.0</td>\n",
       "    </tr>\n",
       "    <tr>\n",
       "      <th>A502378501</th>\n",
       "      <td>38</td>\n",
       "      <td>3.0</td>\n",
       "      <td>0.0</td>\n",
       "      <td>40.0</td>\n",
       "      <td>8.0</td>\n",
       "      <td>88.0</td>\n",
       "      <td>88.0</td>\n",
       "      <td>0.0</td>\n",
       "      <td>0.0</td>\n",
       "      <td>0.0</td>\n",
       "      <td>0.0</td>\n",
       "      <td>0.0</td>\n",
       "      <td>0.0</td>\n",
       "      <td>4.0</td>\n",
       "      <td>1</td>\n",
       "      <td>1</td>\n",
       "      <td>4.0</td>\n",
       "    </tr>\n",
       "    <tr>\n",
       "      <th>...</th>\n",
       "      <td>...</td>\n",
       "      <td>...</td>\n",
       "      <td>...</td>\n",
       "      <td>...</td>\n",
       "      <td>...</td>\n",
       "      <td>...</td>\n",
       "      <td>...</td>\n",
       "      <td>...</td>\n",
       "      <td>...</td>\n",
       "      <td>...</td>\n",
       "      <td>...</td>\n",
       "      <td>...</td>\n",
       "      <td>...</td>\n",
       "      <td>...</td>\n",
       "      <td>...</td>\n",
       "      <td>...</td>\n",
       "      <td>...</td>\n",
       "    </tr>\n",
       "    <tr>\n",
       "      <th>R504235701</th>\n",
       "      <td>39</td>\n",
       "      <td>4.0</td>\n",
       "      <td>1.0</td>\n",
       "      <td>0.0</td>\n",
       "      <td>8.0</td>\n",
       "      <td>88.0</td>\n",
       "      <td>88.0</td>\n",
       "      <td>0.0</td>\n",
       "      <td>0.0</td>\n",
       "      <td>0.0</td>\n",
       "      <td>0.0</td>\n",
       "      <td>0.0</td>\n",
       "      <td>0.0</td>\n",
       "      <td>3.0</td>\n",
       "      <td>8</td>\n",
       "      <td>2</td>\n",
       "      <td>3.0</td>\n",
       "    </tr>\n",
       "    <tr>\n",
       "      <th>R504240804</th>\n",
       "      <td>26</td>\n",
       "      <td>8.0</td>\n",
       "      <td>88.0</td>\n",
       "      <td>88.0</td>\n",
       "      <td>2.0</td>\n",
       "      <td>0.0</td>\n",
       "      <td>25.0</td>\n",
       "      <td>0.0</td>\n",
       "      <td>0.0</td>\n",
       "      <td>0.0</td>\n",
       "      <td>0.0</td>\n",
       "      <td>0.0</td>\n",
       "      <td>0.0</td>\n",
       "      <td>4.0</td>\n",
       "      <td>8</td>\n",
       "      <td>2</td>\n",
       "      <td>5.0</td>\n",
       "    </tr>\n",
       "    <tr>\n",
       "      <th>R504240805</th>\n",
       "      <td>22</td>\n",
       "      <td>3.0</td>\n",
       "      <td>0.0</td>\n",
       "      <td>30.0</td>\n",
       "      <td>8.0</td>\n",
       "      <td>88.0</td>\n",
       "      <td>88.0</td>\n",
       "      <td>0.0</td>\n",
       "      <td>0.0</td>\n",
       "      <td>0.0</td>\n",
       "      <td>0.0</td>\n",
       "      <td>0.0</td>\n",
       "      <td>0.0</td>\n",
       "      <td>3.0</td>\n",
       "      <td>8</td>\n",
       "      <td>1</td>\n",
       "      <td>5.0</td>\n",
       "    </tr>\n",
       "    <tr>\n",
       "      <th>R504358101</th>\n",
       "      <td>39</td>\n",
       "      <td>8.0</td>\n",
       "      <td>88.0</td>\n",
       "      <td>88.0</td>\n",
       "      <td>2.0</td>\n",
       "      <td>0.0</td>\n",
       "      <td>15.0</td>\n",
       "      <td>0.0</td>\n",
       "      <td>0.0</td>\n",
       "      <td>0.0</td>\n",
       "      <td>0.0</td>\n",
       "      <td>0.0</td>\n",
       "      <td>0.0</td>\n",
       "      <td>4.0</td>\n",
       "      <td>8</td>\n",
       "      <td>1</td>\n",
       "      <td>4.0</td>\n",
       "    </tr>\n",
       "    <tr>\n",
       "      <th>R504363202</th>\n",
       "      <td>38</td>\n",
       "      <td>2.0</td>\n",
       "      <td>0.0</td>\n",
       "      <td>20.0</td>\n",
       "      <td>8.0</td>\n",
       "      <td>88.0</td>\n",
       "      <td>88.0</td>\n",
       "      <td>0.0</td>\n",
       "      <td>0.0</td>\n",
       "      <td>0.0</td>\n",
       "      <td>0.0</td>\n",
       "      <td>0.0</td>\n",
       "      <td>0.0</td>\n",
       "      <td>3.0</td>\n",
       "      <td>8</td>\n",
       "      <td>2</td>\n",
       "      <td>3.0</td>\n",
       "    </tr>\n",
       "  </tbody>\n",
       "</table>\n",
       "<p>587 rows × 17 columns</p>\n",
       "</div>"
      ],
      "text/plain": [
       "            age  BE3_86  BE3_87  BE3_88  BE3_76  BE3_77  BE3_78  DI1_dg  \\\n",
       "ID                                                                        \n",
       "A501317302   22     2.0     0.0    15.0     8.0    88.0    88.0     0.0   \n",
       "A502336001   30     1.0     1.0     0.0     1.0     0.0    30.0     0.0   \n",
       "A502347901   27     3.0     1.0     0.0     8.0    88.0    88.0     0.0   \n",
       "A502351301   31     3.0     0.0    40.0     8.0    88.0    88.0     0.0   \n",
       "A502378501   38     3.0     0.0    40.0     8.0    88.0    88.0     0.0   \n",
       "...         ...     ...     ...     ...     ...     ...     ...     ...   \n",
       "R504235701   39     4.0     1.0     0.0     8.0    88.0    88.0     0.0   \n",
       "R504240804   26     8.0    88.0    88.0     2.0     0.0    25.0     0.0   \n",
       "R504240805   22     3.0     0.0    30.0     8.0    88.0    88.0     0.0   \n",
       "R504358101   39     8.0    88.0    88.0     2.0     0.0    15.0     0.0   \n",
       "R504363202   38     2.0     0.0    20.0     8.0    88.0    88.0     0.0   \n",
       "\n",
       "            DI2_dg  DI3_dg  DI4_dg  DE1_dg  DF2_dg  BO1  region  sex  ho_incm5  \n",
       "ID                                                                              \n",
       "A501317302     0.0     0.0     0.0     0.0     0.0  4.0       1    2       3.0  \n",
       "A502336001     0.0     0.0     0.0     0.0     0.0  3.0       1    2       5.0  \n",
       "A502347901     0.0     0.0     0.0     0.0     0.0  3.0       1    2       3.0  \n",
       "A502351301     0.0     0.0     0.0     0.0     0.0  5.0       1    1       5.0  \n",
       "A502378501     0.0     0.0     0.0     0.0     0.0  4.0       1    1       4.0  \n",
       "...            ...     ...     ...     ...     ...  ...     ...  ...       ...  \n",
       "R504235701     0.0     0.0     0.0     0.0     0.0  3.0       8    2       3.0  \n",
       "R504240804     0.0     0.0     0.0     0.0     0.0  4.0       8    2       5.0  \n",
       "R504240805     0.0     0.0     0.0     0.0     0.0  3.0       8    1       5.0  \n",
       "R504358101     0.0     0.0     0.0     0.0     0.0  4.0       8    1       4.0  \n",
       "R504363202     0.0     0.0     0.0     0.0     0.0  3.0       8    2       3.0  \n",
       "\n",
       "[587 rows x 17 columns]"
      ]
     },
     "execution_count": 159,
     "metadata": {},
     "output_type": "execute_result"
    }
   ],
   "source": [
    "df_all= df_all.set_index(\"ID\");df_all"
   ]
  },
  {
   "cell_type": "code",
   "execution_count": 160,
   "metadata": {
    "colab": {
     "base_uri": "https://localhost:8080/"
    },
    "id": "yEaH3zj5Okom",
    "outputId": "1b595a5b-0672-4d2c-9f48-deb66595824b"
   },
   "outputs": [
    {
     "name": "stdout",
     "output_type": "stream",
     "text": [
      "[2. 1. 3. 6. 4. 8. 5. 7.]\n",
      "[ 0.  1. 88.  2.  3.]\n",
      "[15.  0. 40. 20. 30. 10. 88. 50. 45. 25.]\n",
      "[8. 1. 6. 2. 3. 4. 5. 7.]\n",
      "[88.  0.  1.  2.  4.  3.]\n",
      "[88. 30.  0. 20. 10. 40. 50. 15. 35. 45. 25.]\n"
     ]
    }
   ],
   "source": [
    "#답변을 이상하게 한 사람 있는지 확인\n",
    "print(df_all.BE3_86.unique())\n",
    "print(df_all.BE3_87.unique())\n",
    "print(df_all.BE3_88.unique())\n",
    "print(df_all.BE3_76.unique())\n",
    "print(df_all.BE3_77.unique())\n",
    "print(df_all.BE3_78.unique())"
   ]
  },
  {
   "cell_type": "code",
   "execution_count": 161,
   "metadata": {
    "id": "r7yvOHbBVn6h"
   },
   "outputs": [],
   "source": [
    "df_all = df_all.replace({'BE3_86': 8.0}, {'BE3_86': 0.0})\n",
    "df_all =df_all.replace({'BE3_87': 88.0}, {'BE3_87': 0.0})\n",
    "df_all =df_all.replace({'BE3_88': 88.0}, {'BE3_88': 0.0})\n",
    "df_all =df_all.replace({'BE3_76': 8.0}, {'BE3_76': 0.0})\n",
    "df_all =df_all.replace({'BE3_77': 88.0}, {'BE3_77': 0.0})\n",
    "df_all =df_all.replace({'BE3_78': 88.0}, {'BE3_78': 0.0})"
   ]
  },
  {
   "cell_type": "code",
   "execution_count": 162,
   "metadata": {
    "id": "097fHPf9Xxzx"
   },
   "outputs": [],
   "source": [
    "df_all[\"운동량\"] = ((df_all[\"BE3_86\"] * ((60 * df_all[\"BE3_87\"]) + df_all[\"BE3_88\"])) + (df_all[\"BE3_76\"] * ((60 * df_all[\"BE3_77\"]) + df_all[\"BE3_78\"])))"
   ]
  },
  {
   "cell_type": "code",
   "execution_count": 163,
   "metadata": {
    "colab": {
     "base_uri": "https://localhost:8080/",
     "height": 265
    },
    "id": "ml8B_e_KTzgU",
    "outputId": "649af2af-cd96-4ea7-9ea2-bdb5c5790a18"
   },
   "outputs": [
    {
     "data": {
      "image/png": "[encoded data removed]",
      "text/plain": [
       "<Figure size 432x288 with 1 Axes>"
      ]
     },
     "metadata": {
      "needs_background": "light"
     },
     "output_type": "display_data"
    }
   ],
   "source": [
    "# Basic box plot\n",
    "plt.boxplot(df_all['운동량'])\n",
    "plt.show()"
   ]
  },
  {
   "cell_type": "code",
   "execution_count": 164,
   "metadata": {
    "colab": {
     "base_uri": "https://localhost:8080/"
    },
    "id": "6bswkjLSWs9z",
    "outputId": "76ebff7e-4f95-41d4-d418-79c75b03a09b"
   },
   "outputs": [
    {
     "name": "stdout",
     "output_type": "stream",
     "text": [
      "이상치에 해당하여 제거한 인원은 1명입니다\n"
     ]
    }
   ],
   "source": [
    "#이상치 제거할사람\n",
    "df_all.reset_index(inplace=True)\n",
    "df_all.query(\"ID == 'A535228901'\")\n",
    "print(\"이상치에 해당하여 제거한 인원은 1명입니다\")\n",
    "df_all = df_all[df_all.ID != 'A535228901']"
   ]
  },
  {
   "cell_type": "code",
   "execution_count": 165,
   "metadata": {
    "id": "LwTiaQZUdYJY"
   },
   "outputs": [],
   "source": [
    "#gender label encoding\n",
    "gender= []\n",
    "for v in df_all[\"sex\"] :\n",
    "    if v in [1]:\n",
    "        gender.append(0)\n",
    "    else:\n",
    "        gender.append(1)\n",
    "df_all[\"gender\"] = gender\n",
    "\n",
    "df_all.drop(columns = [\"sex\"],inplace=True)\n",
    "df_all[\"female\"] =df_all[\"gender\"] \n",
    "df_all.drop(columns = [\"gender\"],inplace=True)"
   ]
  },
  {
   "cell_type": "code",
   "execution_count": 166,
   "metadata": {
    "id": "i5Bw2Rfcdcwr"
   },
   "outputs": [],
   "source": [
    "#region label encoding\n",
    "region= []\n",
    "for v in df_all[\"region\"] :\n",
    "    if v in [1,9]:\n",
    "        region.append(0)\n",
    "    elif v in [2,3,4,5,6,7]:\n",
    "        region.append(1)\n",
    "    else :\n",
    "        region.append(2)\n",
    "\n",
    "df_all[\"region\"] = region"
   ]
  },
  {
   "cell_type": "code",
   "execution_count": 167,
   "metadata": {
    "id": "TG9yzaWGg6--"
   },
   "outputs": [],
   "source": [
    "df_all = df_all.drop(columns = [\"BE3_86\", \"BE3_87\", \"BE3_88\", \"BE3_76\",\"BE3_77\",\"BE3_78\"],axis=1)"
   ]
  },
  {
   "cell_type": "code",
   "execution_count": 168,
   "metadata": {
    "colab": {
     "base_uri": "https://localhost:8080/"
    },
    "id": "VFFAQoyLA3CJ",
    "outputId": "fa970099-6c9c-4b55-fce8-402022609472"
   },
   "outputs": [
    {
     "data": {
      "text/plain": [
       "ID          0\n",
       "age         0\n",
       "DI1_dg      0\n",
       "DI2_dg      0\n",
       "DI3_dg      0\n",
       "DI4_dg      0\n",
       "DE1_dg      0\n",
       "DF2_dg      0\n",
       "BO1         0\n",
       "region      0\n",
       "ho_incm5    0\n",
       "운동량         0\n",
       "female      0\n",
       "dtype: int64"
      ]
     },
     "execution_count": 168,
     "metadata": {},
     "output_type": "execute_result"
    }
   ],
   "source": [
    "df_all.isnull().sum()"
   ]
  },
  {
   "cell_type": "code",
   "execution_count": 169,
   "metadata": {
    "colab": {
     "base_uri": "https://localhost:8080/",
     "height": 424
    },
    "id": "MNweb98pgD8F",
    "outputId": "17329a43-6ed2-48da-f126-463517408eb1"
   },
   "outputs": [
    {
     "data": {
      "text/html": [
       "<div>\n",
       "<style scoped>\n",
       "    .dataframe tbody tr th:only-of-type {\n",
       "        vertical-align: middle;\n",
       "    }\n",
       "\n",
       "    .dataframe tbody tr th {\n",
       "        vertical-align: top;\n",
       "    }\n",
       "\n",
       "    .dataframe thead th {\n",
       "        text-align: right;\n",
       "    }\n",
       "</style>\n",
       "<table border=\"1\" class=\"dataframe\">\n",
       "  <thead>\n",
       "    <tr style=\"text-align: right;\">\n",
       "      <th></th>\n",
       "      <th>ID</th>\n",
       "      <th>age</th>\n",
       "      <th>DI1_dg</th>\n",
       "      <th>DI2_dg</th>\n",
       "      <th>DI3_dg</th>\n",
       "      <th>DI4_dg</th>\n",
       "      <th>DE1_dg</th>\n",
       "    </tr>\n",
       "  </thead>\n",
       "  <tbody>\n",
       "    <tr>\n",
       "      <th>0</th>\n",
       "      <td>A501317302</td>\n",
       "      <td>22</td>\n",
       "      <td>0.0</td>\n",
       "      <td>0.0</td>\n",
       "      <td>0.0</td>\n",
       "      <td>0.0</td>\n",
       "      <td>0.0</td>\n",
       "    </tr>\n",
       "    <tr>\n",
       "      <th>1</th>\n",
       "      <td>A502336001</td>\n",
       "      <td>30</td>\n",
       "      <td>0.0</td>\n",
       "      <td>0.0</td>\n",
       "      <td>0.0</td>\n",
       "      <td>0.0</td>\n",
       "      <td>0.0</td>\n",
       "    </tr>\n",
       "    <tr>\n",
       "      <th>2</th>\n",
       "      <td>A502347901</td>\n",
       "      <td>27</td>\n",
       "      <td>0.0</td>\n",
       "      <td>0.0</td>\n",
       "      <td>0.0</td>\n",
       "      <td>0.0</td>\n",
       "      <td>0.0</td>\n",
       "    </tr>\n",
       "    <tr>\n",
       "      <th>3</th>\n",
       "      <td>A502351301</td>\n",
       "      <td>31</td>\n",
       "      <td>0.0</td>\n",
       "      <td>0.0</td>\n",
       "      <td>0.0</td>\n",
       "      <td>0.0</td>\n",
       "      <td>0.0</td>\n",
       "    </tr>\n",
       "    <tr>\n",
       "      <th>4</th>\n",
       "      <td>A502378501</td>\n",
       "      <td>38</td>\n",
       "      <td>0.0</td>\n",
       "      <td>0.0</td>\n",
       "      <td>0.0</td>\n",
       "      <td>0.0</td>\n",
       "      <td>0.0</td>\n",
       "    </tr>\n",
       "    <tr>\n",
       "      <th>...</th>\n",
       "      <td>...</td>\n",
       "      <td>...</td>\n",
       "      <td>...</td>\n",
       "      <td>...</td>\n",
       "      <td>...</td>\n",
       "      <td>...</td>\n",
       "      <td>...</td>\n",
       "    </tr>\n",
       "    <tr>\n",
       "      <th>582</th>\n",
       "      <td>R504235701</td>\n",
       "      <td>39</td>\n",
       "      <td>0.0</td>\n",
       "      <td>0.0</td>\n",
       "      <td>0.0</td>\n",
       "      <td>0.0</td>\n",
       "      <td>0.0</td>\n",
       "    </tr>\n",
       "    <tr>\n",
       "      <th>583</th>\n",
       "      <td>R504240804</td>\n",
       "      <td>26</td>\n",
       "      <td>0.0</td>\n",
       "      <td>0.0</td>\n",
       "      <td>0.0</td>\n",
       "      <td>0.0</td>\n",
       "      <td>0.0</td>\n",
       "    </tr>\n",
       "    <tr>\n",
       "      <th>584</th>\n",
       "      <td>R504240805</td>\n",
       "      <td>22</td>\n",
       "      <td>0.0</td>\n",
       "      <td>0.0</td>\n",
       "      <td>0.0</td>\n",
       "      <td>0.0</td>\n",
       "      <td>0.0</td>\n",
       "    </tr>\n",
       "    <tr>\n",
       "      <th>585</th>\n",
       "      <td>R504358101</td>\n",
       "      <td>39</td>\n",
       "      <td>0.0</td>\n",
       "      <td>0.0</td>\n",
       "      <td>0.0</td>\n",
       "      <td>0.0</td>\n",
       "      <td>0.0</td>\n",
       "    </tr>\n",
       "    <tr>\n",
       "      <th>586</th>\n",
       "      <td>R504363202</td>\n",
       "      <td>38</td>\n",
       "      <td>0.0</td>\n",
       "      <td>0.0</td>\n",
       "      <td>0.0</td>\n",
       "      <td>0.0</td>\n",
       "      <td>0.0</td>\n",
       "    </tr>\n",
       "  </tbody>\n",
       "</table>\n",
       "<p>586 rows × 7 columns</p>\n",
       "</div>"
      ],
      "text/plain": [
       "             ID  age  DI1_dg  DI2_dg  DI3_dg  DI4_dg  DE1_dg\n",
       "0    A501317302   22     0.0     0.0     0.0     0.0     0.0\n",
       "1    A502336001   30     0.0     0.0     0.0     0.0     0.0\n",
       "2    A502347901   27     0.0     0.0     0.0     0.0     0.0\n",
       "3    A502351301   31     0.0     0.0     0.0     0.0     0.0\n",
       "4    A502378501   38     0.0     0.0     0.0     0.0     0.0\n",
       "..          ...  ...     ...     ...     ...     ...     ...\n",
       "582  R504235701   39     0.0     0.0     0.0     0.0     0.0\n",
       "583  R504240804   26     0.0     0.0     0.0     0.0     0.0\n",
       "584  R504240805   22     0.0     0.0     0.0     0.0     0.0\n",
       "585  R504358101   39     0.0     0.0     0.0     0.0     0.0\n",
       "586  R504363202   38     0.0     0.0     0.0     0.0     0.0\n",
       "\n",
       "[586 rows x 7 columns]"
      ]
     },
     "execution_count": 169,
     "metadata": {},
     "output_type": "execute_result"
    }
   ],
   "source": [
    "#심혈관질환\n",
    "x1_df = df_all.iloc[:,:7]; x1_df"
   ]
  },
  {
   "cell_type": "code",
   "execution_count": 170,
   "metadata": {
    "colab": {
     "base_uri": "https://localhost:8080/"
    },
    "id": "TloBvrz0U-4g",
    "outputId": "32636723-4a87-4c4a-b841-8f96c460ae30"
   },
   "outputs": [
    {
     "name": "stdout",
     "output_type": "stream",
     "text": [
      "[0. 1.]\n",
      "[0. 1.]\n",
      "[0. 1.]\n",
      "[0. 1.]\n",
      "[0. 1.]\n"
     ]
    }
   ],
   "source": [
    "# 진단 여부에 삭제할 항목이 있는지 확인\n",
    "print(x1_df.DI1_dg.unique())\n",
    "print(x1_df.DI2_dg.unique())\n",
    "print(x1_df.DI3_dg.unique())\n",
    "print(x1_df.DI4_dg.unique())\n",
    "print(x1_df.DE1_dg.unique())\n",
    "# 모두 진단 받은적 있음, 혹은 없음 으로 확인됨 -> 삭제할 id 없음"
   ]
  },
  {
   "cell_type": "code",
   "execution_count": 171,
   "metadata": {},
   "outputs": [
    {
     "data": {
      "text/plain": [
       "array([0.])"
      ]
     },
     "execution_count": 171,
     "metadata": {},
     "output_type": "execute_result"
    }
   ],
   "source": [
    "x1_df.query(\"DI1_dg == 0.0 &DI2_dg == 0.0 &DI3_dg == 0.0 &DI4_dg == 0.0 &DE1_dg == 0.0\").DI2_dg.unique()"
   ]
  },
  {
   "cell_type": "code",
   "execution_count": 172,
   "metadata": {
    "colab": {
     "base_uri": "https://localhost:8080/"
    },
    "id": "bICh99uIVk4J",
    "outputId": "be1f1a52-2b7c-4d31-f63e-04ab9df03b4e"
   },
   "outputs": [
    {
     "name": "stdout",
     "output_type": "stream",
     "text": [
      "['A501317302' 'A502336001' 'A502347901' 'A502351301' 'A502378501'\n",
      " 'A502378502' 'A503208502' 'A503213602' 'A503217003' 'A503223801'\n",
      " 'A503223802' 'A503228901' 'A503230601' 'A503230602' 'A503361503'\n",
      " 'A504358101' 'A504407402' 'A504419301' 'A504419302' 'A505223803'\n",
      " 'A505288401' 'A505291802' 'A505320701' 'A506252702' 'A506257803'\n",
      " 'A506257804' 'A506266303' 'A506319003' 'A506334302' 'A507223803'\n",
      " 'A507225503' 'A507227203' 'A507293503' 'A507293504' 'A508344504'\n",
      " 'A508346202' 'A508361501' 'A509213602' 'A509237401' 'A509237402'\n",
      " 'A509302002' 'A510196603' 'A510200001' 'A510308803' 'A510320702'\n",
      " 'A510336004' 'A511200001' 'A511257803' 'A511259503' 'A512218703'\n",
      " 'A512330901' 'A512330902' 'A512341103' 'A513281603' 'A514205102'\n",
      " 'A514220402' 'A514290101' 'A514293501' 'A514302005' 'A515201703'\n",
      " 'A515213602' 'A515290104' 'A515296903' 'A516213601' 'A516217002'\n",
      " 'A516232303' 'A516235702' 'A516276501' 'A516276502' 'A516281602'\n",
      " 'A516298602' 'A516300302' 'A516303701' 'A517188101' 'A517189801'\n",
      " 'A517194902' 'A517298601' 'A518210202' 'A518215301' 'A518347901'\n",
      " 'A518353001' 'A518371701' 'A518371702' 'A519242504' 'A519247603'\n",
      " 'A519251003' 'A520225503' 'A520361501' 'A521252701' 'A521252702'\n",
      " 'A521256103' 'A521288402' 'A521324101' 'A521329203' 'A521353002'\n",
      " 'A521353003' 'A523344501' 'A523344502' 'A523358101' 'A523358102'\n",
      " 'A523363201' 'A523363202' 'A524235703' 'A524240803' 'A524251002'\n",
      " 'A524254402' 'A524254403' 'A524336001' 'A524361504' 'A526269703'\n",
      " 'A526285003' 'A526300302' 'A527217001' 'A527217002' 'A527245904'\n",
      " 'A527259501' 'A527285001' 'A527285002' 'A527330901' 'A528191502'\n",
      " 'A528293502' 'A528305402' 'A528313902' 'A529234003' 'A529247601'\n",
      " 'A529278201' 'A531223801' 'A531232301' 'A531295202' 'A531296901'\n",
      " 'A533218703' 'A533227202' 'A533228903' 'A533228904' 'A533234003'\n",
      " 'A533237402' 'A533240803' 'A533322401' 'A533339401' 'A534215301'\n",
      " 'A534218701' 'A534225502' 'A534286701' 'A534290101' 'A534302001'\n",
      " 'A535325801' 'A535336003' 'A535356402' 'A536217001' 'A536217002'\n",
      " 'A536293501' 'A536381903' 'B501218701' 'B501218703' 'B502364903'\n",
      " 'B502364904' 'B504432903' 'B504438001' 'B504438002' 'B504453303'\n",
      " 'B504453304' 'B504461802' 'B505183001' 'B505183002' 'B507171102'\n",
      " 'B507222101' 'B507222102' 'B507223801' 'B507228901' 'B507244201'\n",
      " 'B507244202' 'B507359803' 'B508177903' 'B508189802' 'B508191502'\n",
      " 'B508193201' 'B508193202' 'B508196601' 'B508196602' 'B508206801'\n",
      " 'B508251001' 'B508251002' 'B508252701' 'B508276501' 'B509247603'\n",
      " 'B510193203' 'B510193204' 'B511183001' 'B511468602' 'B512223804'\n",
      " 'B512232303' 'B512234003' 'B512234004' 'B512356401' 'B512376801'\n",
      " 'B513237401' 'B513237402' 'B513315602' 'B513319001' 'B513320703'\n",
      " 'B513332603' 'C503317304' 'C503322403' 'C503322404' 'C504274802'\n",
      " 'C504421001' 'C504421002' 'C505303702' 'C506448201' 'C506448202'\n",
      " 'C509240803' 'C509285003' 'C509286703' 'C509290103' 'D501174504'\n",
      " 'D501183004' 'D501196603' 'D501196604' 'D501261203' 'D501271403'\n",
      " 'D501278202' 'D502239103' 'D502376801' 'D502410802' 'D503172802'\n",
      " 'D504381903' 'D504482203' 'D505191503' 'D506307101' 'D506477101'\n",
      " 'D506477102' 'D507388703' 'D507398903' 'D509193203' 'D509330901'\n",
      " 'D510213602' 'D510223803' 'D510234001' 'E501261202' 'E501273102'\n",
      " 'E501409101' 'E502228902' 'E502234001' 'E502298603' 'E502409104'\n",
      " 'E503251002' 'E504271403' 'E504273103' 'E505254403' 'E506274804'\n",
      " 'E506305403' 'F501193203' 'F501193204' 'F501193205' 'F501385303'\n",
      " 'F503249303' 'F505205101' 'F505205102' 'F505230601' 'F505242501'\n",
      " 'F505349603' 'F505351302' 'F505354701' 'F505388703' 'F505390401'\n",
      " 'F506223802' 'G501237402' 'G501259502' 'G501334301' 'G501368301'\n",
      " 'G502364903' 'G503193201' 'G503194903' 'G504240803' 'G504252702'\n",
      " 'G504256103' 'G504271402' 'G504359803' 'G504361503' 'H501211901'\n",
      " 'H501223802' 'H501225504' 'H501232303' 'H501242502' 'H501336002'\n",
      " 'H501342803' 'H502174503' 'H502174504' 'H502206804' 'H504254401'\n",
      " 'H504266301' 'H504281601' 'H504390401' 'H505179603' 'H506419301'\n",
      " 'H506421001' 'H506426103' 'H506444802' 'H507200002' 'H507273102'\n",
      " 'H507278203' 'H508417601' 'H509245903' 'H509247603' 'H509368303'\n",
      " 'H509368304' 'H509371703' 'H510169403' 'H510186401' 'H510186402'\n",
      " 'H510393802' 'H510407402' 'H511492401' 'H511506001' 'H511509401'\n",
      " 'H512259503' 'H513261203' 'H513261204' 'H513271403' 'H513271404'\n",
      " 'H514196601' 'H514206801' 'H514213601' 'H514215301' 'H514218703'\n",
      " 'H514249301' 'H514285003' 'H515184703' 'H515188102' 'H515203402'\n",
      " 'H515208503' 'H515283302' 'H515325801' 'H516405702' 'H516415904'\n",
      " 'H516417603' 'H517448201' 'H518215302' 'H518344504' 'H519220401'\n",
      " 'H519274802' 'H519285001' 'H519285002' 'H519288401' 'H519303703'\n",
      " 'H519303704' 'H520230603' 'H521244203' 'H521259503' 'H521332603'\n",
      " 'H521332604' 'H523220401' 'H523237403' 'H523419303' 'H524244201'\n",
      " 'H524276503' 'H524349601' 'H524356402' 'H524364903' 'H525240801'\n",
      " 'H525395503' 'H526230601' 'H526232303' 'H526232304' 'H527259503'\n",
      " 'H527268003' 'H528203401' 'H528208501' 'H529235704' 'H529347901'\n",
      " 'H530205102' 'H530298603' 'H530298604' 'H530310501' 'H530310502'\n",
      " 'H531344503' 'H531421003' 'H532256101' 'H532259501' 'H532259502'\n",
      " 'H532341102' 'H533206802' 'H533242502' 'H533254401' 'H533286702'\n",
      " 'H533302003' 'H533313901' 'H534245903' 'H534276503' 'H534290103'\n",
      " 'H534291803' 'H535245901' 'H535313902' 'H535320703' 'H535327503'\n",
      " 'H536200003' 'H536215303' 'H537268002' 'H538259502' 'H538261201'\n",
      " 'H538261202' 'H538410801' 'H539184701' 'H539191501' 'H539198301'\n",
      " 'H539205101' 'H539211901' 'H539283301' 'H539285001' 'H540210201'\n",
      " 'H540223801' 'H540290102' 'H541341103' 'H542245901' 'H542322403'\n",
      " 'H543347901' 'H543387004' 'H543387005' 'H544230601' 'H544305401'\n",
      " 'I501390401' 'I501415904' 'I502169401' 'I502169402' 'I502278201'\n",
      " 'I502279901' 'I504179601' 'I504281601' 'I504371701' 'I505239101'\n",
      " 'I505247601' 'I505247602' 'I505249301' 'I505339401' 'I505342801'\n",
      " 'I505347901' 'I505349601' 'I505353001' 'I505361501' 'I505361502'\n",
      " 'I506349603' 'J502295201' 'J503184703' 'J506312203' 'K501305403'\n",
      " 'K503441402' 'K504261201' 'K504268001' 'K504276501' 'K504276502'\n",
      " 'K504283302' 'K504286702' 'K504368301' 'K504368302' 'K504370001'\n",
      " 'K504376801' 'K504380201' 'K504387001' 'K504387002' 'K507230603'\n",
      " 'K507249301' 'L501356403' 'L502208501' 'L502220401' 'L502429503'\n",
      " 'L502429504' 'L503249302' 'L503305402' 'L503320702' 'L505211901'\n",
      " 'L505240801' 'L505295203' 'L505300303' 'L505307103' 'M501234001'\n",
      " 'M501262901' 'M501361501' 'M502303702' 'M502319002' 'M502327502'\n",
      " 'M504186401' 'M504410803' 'M505334303' 'M507230602' 'M507234003'\n",
      " 'N501237401' 'N501285001' 'N501422701' 'N501436301' 'N501441402'\n",
      " 'N501465202' 'N502181303' 'N502198303' 'N502210201' 'N502210202'\n",
      " 'N502288403' 'N502296903' 'N502302003' 'N502319003' 'N505230601'\n",
      " 'N505230602' 'N505249301' 'N505327501' 'N505339403' 'N505347901'\n",
      " 'N506230602' 'N507206803' 'N507339401' 'N510222103' 'N510239102'\n",
      " 'N510239103' 'O501186401' 'O501444801' 'O502217003' 'O502235703'\n",
      " 'O503198303' 'O504205104' 'O507259503' 'O507274801' 'O507303701'\n",
      " 'O507315602' 'O507320702' 'O507354702' 'O508183001' 'O508196601'\n",
      " 'O510251002' 'O511279904' 'O511283302' 'O512240803' 'O512242503'\n",
      " 'O512363203' 'O512366602' 'O512385302' 'O513315601' 'O513322404'\n",
      " 'O513330901' 'P501305402' 'P502215303' 'P502319002' 'P503189804'\n",
      " 'P503193203' 'P503210202' 'P503269702' 'R501189801' 'R501206801'\n",
      " 'R501393801' 'R501421001' 'R502194901' 'R502198302' 'R502203401'\n",
      " 'R502288401' 'R502288402' 'R502300301' 'R502300302' 'R502310503'\n",
      " 'R504223802' 'R504234001' 'R504235701' 'R504240804' 'R504240805'\n",
      " 'R504358101' 'R504363202']\n"
     ]
    }
   ],
   "source": [
    "#심혈관질환에 해당하지 않는 (0) ID저장\n",
    "print(x1_df.query(\"DI1_dg == 0.0 &DI2_dg == 0.0 &DI3_dg == 0.0 &DI4_dg == 0.0 &DE1_dg == 0.0 \").ID.unique())\n",
    "x1_df[\"심혈관질환\"] = 1\n",
    "\n",
    "#심혈관질환에 해당하지 않는 유저들의 심혈관질환 값 0으로 변경\n",
    "for i in x1_df.query(\"DI1_dg == 0.0 & DI2_dg == 0.0 & DI3_dg == 0.0 & DI4_dg == 0.0 & DE1_dg == 0.0 \").ID.index:\n",
    "    x1_df.loc[i, \"심혈관질환\"] = x1_df.loc[i, \"DI2_dg\"]"
   ]
  },
  {
   "cell_type": "code",
   "execution_count": 173,
   "metadata": {
    "colab": {
     "base_uri": "https://localhost:8080/",
     "height": 424
    },
    "id": "6RPknwkQ_rCU",
    "outputId": "24979d13-f924-4ed0-a5fe-6ec16e3ee2ac"
   },
   "outputs": [
    {
     "data": {
      "text/plain": [
       "array([0., 1.])"
      ]
     },
     "execution_count": 173,
     "metadata": {},
     "output_type": "execute_result"
    }
   ],
   "source": [
    "x1_df.심혈관질환.unique()"
   ]
  },
  {
   "cell_type": "code",
   "execution_count": 175,
   "metadata": {
    "colab": {
     "base_uri": "https://localhost:8080/",
     "height": 424
    },
    "id": "hgkdVGwzdlz3",
    "outputId": "3ea0affe-60ea-4cff-8bc5-af010d0cb249"
   },
   "outputs": [
    {
     "data": {
      "text/html": [
       "<div>\n",
       "<style scoped>\n",
       "    .dataframe tbody tr th:only-of-type {\n",
       "        vertical-align: middle;\n",
       "    }\n",
       "\n",
       "    .dataframe tbody tr th {\n",
       "        vertical-align: top;\n",
       "    }\n",
       "\n",
       "    .dataframe thead th {\n",
       "        text-align: right;\n",
       "    }\n",
       "</style>\n",
       "<table border=\"1\" class=\"dataframe\">\n",
       "  <thead>\n",
       "    <tr style=\"text-align: right;\">\n",
       "      <th></th>\n",
       "      <th>ID</th>\n",
       "      <th>age</th>\n",
       "      <th>DF2_dg</th>\n",
       "      <th>BO1</th>\n",
       "      <th>region</th>\n",
       "      <th>ho_incm5</th>\n",
       "      <th>운동량</th>\n",
       "      <th>female</th>\n",
       "      <th>심혈관질환</th>\n",
       "    </tr>\n",
       "  </thead>\n",
       "  <tbody>\n",
       "    <tr>\n",
       "      <th>0</th>\n",
       "      <td>A501317302</td>\n",
       "      <td>22</td>\n",
       "      <td>0.0</td>\n",
       "      <td>4.0</td>\n",
       "      <td>0</td>\n",
       "      <td>3.0</td>\n",
       "      <td>30.0</td>\n",
       "      <td>1</td>\n",
       "      <td>0.0</td>\n",
       "    </tr>\n",
       "    <tr>\n",
       "      <th>1</th>\n",
       "      <td>A502336001</td>\n",
       "      <td>30</td>\n",
       "      <td>0.0</td>\n",
       "      <td>3.0</td>\n",
       "      <td>0</td>\n",
       "      <td>5.0</td>\n",
       "      <td>90.0</td>\n",
       "      <td>1</td>\n",
       "      <td>0.0</td>\n",
       "    </tr>\n",
       "    <tr>\n",
       "      <th>2</th>\n",
       "      <td>A502347901</td>\n",
       "      <td>27</td>\n",
       "      <td>0.0</td>\n",
       "      <td>3.0</td>\n",
       "      <td>0</td>\n",
       "      <td>3.0</td>\n",
       "      <td>180.0</td>\n",
       "      <td>1</td>\n",
       "      <td>0.0</td>\n",
       "    </tr>\n",
       "    <tr>\n",
       "      <th>3</th>\n",
       "      <td>A502351301</td>\n",
       "      <td>31</td>\n",
       "      <td>0.0</td>\n",
       "      <td>5.0</td>\n",
       "      <td>0</td>\n",
       "      <td>5.0</td>\n",
       "      <td>120.0</td>\n",
       "      <td>0</td>\n",
       "      <td>0.0</td>\n",
       "    </tr>\n",
       "    <tr>\n",
       "      <th>4</th>\n",
       "      <td>A502378501</td>\n",
       "      <td>38</td>\n",
       "      <td>0.0</td>\n",
       "      <td>4.0</td>\n",
       "      <td>0</td>\n",
       "      <td>4.0</td>\n",
       "      <td>120.0</td>\n",
       "      <td>0</td>\n",
       "      <td>0.0</td>\n",
       "    </tr>\n",
       "    <tr>\n",
       "      <th>...</th>\n",
       "      <td>...</td>\n",
       "      <td>...</td>\n",
       "      <td>...</td>\n",
       "      <td>...</td>\n",
       "      <td>...</td>\n",
       "      <td>...</td>\n",
       "      <td>...</td>\n",
       "      <td>...</td>\n",
       "      <td>...</td>\n",
       "    </tr>\n",
       "    <tr>\n",
       "      <th>582</th>\n",
       "      <td>R504235701</td>\n",
       "      <td>39</td>\n",
       "      <td>0.0</td>\n",
       "      <td>3.0</td>\n",
       "      <td>2</td>\n",
       "      <td>3.0</td>\n",
       "      <td>240.0</td>\n",
       "      <td>1</td>\n",
       "      <td>0.0</td>\n",
       "    </tr>\n",
       "    <tr>\n",
       "      <th>583</th>\n",
       "      <td>R504240804</td>\n",
       "      <td>26</td>\n",
       "      <td>0.0</td>\n",
       "      <td>4.0</td>\n",
       "      <td>2</td>\n",
       "      <td>5.0</td>\n",
       "      <td>50.0</td>\n",
       "      <td>1</td>\n",
       "      <td>0.0</td>\n",
       "    </tr>\n",
       "    <tr>\n",
       "      <th>584</th>\n",
       "      <td>R504240805</td>\n",
       "      <td>22</td>\n",
       "      <td>0.0</td>\n",
       "      <td>3.0</td>\n",
       "      <td>2</td>\n",
       "      <td>5.0</td>\n",
       "      <td>90.0</td>\n",
       "      <td>0</td>\n",
       "      <td>0.0</td>\n",
       "    </tr>\n",
       "    <tr>\n",
       "      <th>585</th>\n",
       "      <td>R504358101</td>\n",
       "      <td>39</td>\n",
       "      <td>0.0</td>\n",
       "      <td>4.0</td>\n",
       "      <td>2</td>\n",
       "      <td>4.0</td>\n",
       "      <td>30.0</td>\n",
       "      <td>0</td>\n",
       "      <td>0.0</td>\n",
       "    </tr>\n",
       "    <tr>\n",
       "      <th>586</th>\n",
       "      <td>R504363202</td>\n",
       "      <td>38</td>\n",
       "      <td>0.0</td>\n",
       "      <td>3.0</td>\n",
       "      <td>2</td>\n",
       "      <td>3.0</td>\n",
       "      <td>40.0</td>\n",
       "      <td>1</td>\n",
       "      <td>0.0</td>\n",
       "    </tr>\n",
       "  </tbody>\n",
       "</table>\n",
       "<p>586 rows × 9 columns</p>\n",
       "</div>"
      ],
      "text/plain": [
       "             ID  age  DF2_dg  BO1  region  ho_incm5    운동량  female  심혈관질환\n",
       "0    A501317302   22     0.0  4.0       0       3.0   30.0       1    0.0\n",
       "1    A502336001   30     0.0  3.0       0       5.0   90.0       1    0.0\n",
       "2    A502347901   27     0.0  3.0       0       3.0  180.0       1    0.0\n",
       "3    A502351301   31     0.0  5.0       0       5.0  120.0       0    0.0\n",
       "4    A502378501   38     0.0  4.0       0       4.0  120.0       0    0.0\n",
       "..          ...  ...     ...  ...     ...       ...    ...     ...    ...\n",
       "582  R504235701   39     0.0  3.0       2       3.0  240.0       1    0.0\n",
       "583  R504240804   26     0.0  4.0       2       5.0   50.0       1    0.0\n",
       "584  R504240805   22     0.0  3.0       2       5.0   90.0       0    0.0\n",
       "585  R504358101   39     0.0  4.0       2       4.0   30.0       0    0.0\n",
       "586  R504363202   38     0.0  3.0       2       3.0   40.0       1    0.0\n",
       "\n",
       "[586 rows x 9 columns]"
      ]
     },
     "execution_count": 175,
     "metadata": {},
     "output_type": "execute_result"
    }
   ],
   "source": [
    "df_all = pd.concat([df_all,x1_df[\"심혈관질환\"]], axis=1)\n",
    "df_all = df_all.drop(columns= [\"DI1_dg\",\"DI2_dg\",\"DI3_dg\",\"DI4_dg\",\"DE1_dg\"],axis=1);\n",
    "df_all"
   ]
  },
  {
   "cell_type": "code",
   "execution_count": 176,
   "metadata": {
    "colab": {
     "base_uri": "https://localhost:8080/",
     "height": 424
    },
    "id": "uvxBhvgynlva",
    "outputId": "ed80881b-3e12-4f61-9dd3-948fe0b3925e"
   },
   "outputs": [
    {
     "data": {
      "text/html": [
       "<div>\n",
       "<style scoped>\n",
       "    .dataframe tbody tr th:only-of-type {\n",
       "        vertical-align: middle;\n",
       "    }\n",
       "\n",
       "    .dataframe tbody tr th {\n",
       "        vertical-align: top;\n",
       "    }\n",
       "\n",
       "    .dataframe thead th {\n",
       "        text-align: right;\n",
       "    }\n",
       "</style>\n",
       "<table border=\"1\" class=\"dataframe\">\n",
       "  <thead>\n",
       "    <tr style=\"text-align: right;\">\n",
       "      <th></th>\n",
       "      <th>ID</th>\n",
       "      <th>age</th>\n",
       "      <th>DF2_dg</th>\n",
       "    </tr>\n",
       "  </thead>\n",
       "  <tbody>\n",
       "    <tr>\n",
       "      <th>0</th>\n",
       "      <td>A501317302</td>\n",
       "      <td>22</td>\n",
       "      <td>0.0</td>\n",
       "    </tr>\n",
       "    <tr>\n",
       "      <th>1</th>\n",
       "      <td>A502336001</td>\n",
       "      <td>30</td>\n",
       "      <td>0.0</td>\n",
       "    </tr>\n",
       "    <tr>\n",
       "      <th>2</th>\n",
       "      <td>A502347901</td>\n",
       "      <td>27</td>\n",
       "      <td>0.0</td>\n",
       "    </tr>\n",
       "    <tr>\n",
       "      <th>3</th>\n",
       "      <td>A502351301</td>\n",
       "      <td>31</td>\n",
       "      <td>0.0</td>\n",
       "    </tr>\n",
       "    <tr>\n",
       "      <th>4</th>\n",
       "      <td>A502378501</td>\n",
       "      <td>38</td>\n",
       "      <td>0.0</td>\n",
       "    </tr>\n",
       "    <tr>\n",
       "      <th>...</th>\n",
       "      <td>...</td>\n",
       "      <td>...</td>\n",
       "      <td>...</td>\n",
       "    </tr>\n",
       "    <tr>\n",
       "      <th>582</th>\n",
       "      <td>R504235701</td>\n",
       "      <td>39</td>\n",
       "      <td>0.0</td>\n",
       "    </tr>\n",
       "    <tr>\n",
       "      <th>583</th>\n",
       "      <td>R504240804</td>\n",
       "      <td>26</td>\n",
       "      <td>0.0</td>\n",
       "    </tr>\n",
       "    <tr>\n",
       "      <th>584</th>\n",
       "      <td>R504240805</td>\n",
       "      <td>22</td>\n",
       "      <td>0.0</td>\n",
       "    </tr>\n",
       "    <tr>\n",
       "      <th>585</th>\n",
       "      <td>R504358101</td>\n",
       "      <td>39</td>\n",
       "      <td>0.0</td>\n",
       "    </tr>\n",
       "    <tr>\n",
       "      <th>586</th>\n",
       "      <td>R504363202</td>\n",
       "      <td>38</td>\n",
       "      <td>0.0</td>\n",
       "    </tr>\n",
       "  </tbody>\n",
       "</table>\n",
       "<p>586 rows × 3 columns</p>\n",
       "</div>"
      ],
      "text/plain": [
       "             ID  age  DF2_dg\n",
       "0    A501317302   22     0.0\n",
       "1    A502336001   30     0.0\n",
       "2    A502347901   27     0.0\n",
       "3    A502351301   31     0.0\n",
       "4    A502378501   38     0.0\n",
       "..          ...  ...     ...\n",
       "582  R504235701   39     0.0\n",
       "583  R504240804   26     0.0\n",
       "584  R504240805   22     0.0\n",
       "585  R504358101   39     0.0\n",
       "586  R504363202   38     0.0\n",
       "\n",
       "[586 rows x 3 columns]"
      ]
     },
     "execution_count": 176,
     "metadata": {},
     "output_type": "execute_result"
    }
   ],
   "source": [
    "#정신질환\n",
    "x2_df = df_all.iloc[:,:3]; x2_df"
   ]
  },
  {
   "cell_type": "code",
   "execution_count": 177,
   "metadata": {
    "colab": {
     "base_uri": "https://localhost:8080/",
     "height": 441
    },
    "id": "6xsJyL78BaJM",
    "outputId": "616ce23a-bd28-44fb-ad5c-3522a80df0cd"
   },
   "outputs": [
    {
     "name": "stdout",
     "output_type": "stream",
     "text": [
      "[0. 1.]\n"
     ]
    },
    {
     "data": {
      "text/html": [
       "<div>\n",
       "<style scoped>\n",
       "    .dataframe tbody tr th:only-of-type {\n",
       "        vertical-align: middle;\n",
       "    }\n",
       "\n",
       "    .dataframe tbody tr th {\n",
       "        vertical-align: top;\n",
       "    }\n",
       "\n",
       "    .dataframe thead th {\n",
       "        text-align: right;\n",
       "    }\n",
       "</style>\n",
       "<table border=\"1\" class=\"dataframe\">\n",
       "  <thead>\n",
       "    <tr style=\"text-align: right;\">\n",
       "      <th></th>\n",
       "      <th>ID</th>\n",
       "      <th>age</th>\n",
       "      <th>BO1</th>\n",
       "      <th>region</th>\n",
       "      <th>ho_incm5</th>\n",
       "      <th>운동량</th>\n",
       "      <th>female</th>\n",
       "      <th>심혈관질환</th>\n",
       "      <th>정신질환</th>\n",
       "    </tr>\n",
       "  </thead>\n",
       "  <tbody>\n",
       "    <tr>\n",
       "      <th>0</th>\n",
       "      <td>A501317302</td>\n",
       "      <td>22</td>\n",
       "      <td>4.0</td>\n",
       "      <td>0</td>\n",
       "      <td>3.0</td>\n",
       "      <td>30.0</td>\n",
       "      <td>1</td>\n",
       "      <td>0.0</td>\n",
       "      <td>0.0</td>\n",
       "    </tr>\n",
       "    <tr>\n",
       "      <th>1</th>\n",
       "      <td>A502336001</td>\n",
       "      <td>30</td>\n",
       "      <td>3.0</td>\n",
       "      <td>0</td>\n",
       "      <td>5.0</td>\n",
       "      <td>90.0</td>\n",
       "      <td>1</td>\n",
       "      <td>0.0</td>\n",
       "      <td>0.0</td>\n",
       "    </tr>\n",
       "    <tr>\n",
       "      <th>2</th>\n",
       "      <td>A502347901</td>\n",
       "      <td>27</td>\n",
       "      <td>3.0</td>\n",
       "      <td>0</td>\n",
       "      <td>3.0</td>\n",
       "      <td>180.0</td>\n",
       "      <td>1</td>\n",
       "      <td>0.0</td>\n",
       "      <td>0.0</td>\n",
       "    </tr>\n",
       "    <tr>\n",
       "      <th>3</th>\n",
       "      <td>A502351301</td>\n",
       "      <td>31</td>\n",
       "      <td>5.0</td>\n",
       "      <td>0</td>\n",
       "      <td>5.0</td>\n",
       "      <td>120.0</td>\n",
       "      <td>0</td>\n",
       "      <td>0.0</td>\n",
       "      <td>0.0</td>\n",
       "    </tr>\n",
       "    <tr>\n",
       "      <th>4</th>\n",
       "      <td>A502378501</td>\n",
       "      <td>38</td>\n",
       "      <td>4.0</td>\n",
       "      <td>0</td>\n",
       "      <td>4.0</td>\n",
       "      <td>120.0</td>\n",
       "      <td>0</td>\n",
       "      <td>0.0</td>\n",
       "      <td>0.0</td>\n",
       "    </tr>\n",
       "    <tr>\n",
       "      <th>...</th>\n",
       "      <td>...</td>\n",
       "      <td>...</td>\n",
       "      <td>...</td>\n",
       "      <td>...</td>\n",
       "      <td>...</td>\n",
       "      <td>...</td>\n",
       "      <td>...</td>\n",
       "      <td>...</td>\n",
       "      <td>...</td>\n",
       "    </tr>\n",
       "    <tr>\n",
       "      <th>582</th>\n",
       "      <td>R504235701</td>\n",
       "      <td>39</td>\n",
       "      <td>3.0</td>\n",
       "      <td>2</td>\n",
       "      <td>3.0</td>\n",
       "      <td>240.0</td>\n",
       "      <td>1</td>\n",
       "      <td>0.0</td>\n",
       "      <td>0.0</td>\n",
       "    </tr>\n",
       "    <tr>\n",
       "      <th>583</th>\n",
       "      <td>R504240804</td>\n",
       "      <td>26</td>\n",
       "      <td>4.0</td>\n",
       "      <td>2</td>\n",
       "      <td>5.0</td>\n",
       "      <td>50.0</td>\n",
       "      <td>1</td>\n",
       "      <td>0.0</td>\n",
       "      <td>0.0</td>\n",
       "    </tr>\n",
       "    <tr>\n",
       "      <th>584</th>\n",
       "      <td>R504240805</td>\n",
       "      <td>22</td>\n",
       "      <td>3.0</td>\n",
       "      <td>2</td>\n",
       "      <td>5.0</td>\n",
       "      <td>90.0</td>\n",
       "      <td>0</td>\n",
       "      <td>0.0</td>\n",
       "      <td>0.0</td>\n",
       "    </tr>\n",
       "    <tr>\n",
       "      <th>585</th>\n",
       "      <td>R504358101</td>\n",
       "      <td>39</td>\n",
       "      <td>4.0</td>\n",
       "      <td>2</td>\n",
       "      <td>4.0</td>\n",
       "      <td>30.0</td>\n",
       "      <td>0</td>\n",
       "      <td>0.0</td>\n",
       "      <td>0.0</td>\n",
       "    </tr>\n",
       "    <tr>\n",
       "      <th>586</th>\n",
       "      <td>R504363202</td>\n",
       "      <td>38</td>\n",
       "      <td>3.0</td>\n",
       "      <td>2</td>\n",
       "      <td>3.0</td>\n",
       "      <td>40.0</td>\n",
       "      <td>1</td>\n",
       "      <td>0.0</td>\n",
       "      <td>0.0</td>\n",
       "    </tr>\n",
       "  </tbody>\n",
       "</table>\n",
       "<p>586 rows × 9 columns</p>\n",
       "</div>"
      ],
      "text/plain": [
       "             ID  age  BO1  region  ho_incm5    운동량  female  심혈관질환  정신질환\n",
       "0    A501317302   22  4.0       0       3.0   30.0       1    0.0   0.0\n",
       "1    A502336001   30  3.0       0       5.0   90.0       1    0.0   0.0\n",
       "2    A502347901   27  3.0       0       3.0  180.0       1    0.0   0.0\n",
       "3    A502351301   31  5.0       0       5.0  120.0       0    0.0   0.0\n",
       "4    A502378501   38  4.0       0       4.0  120.0       0    0.0   0.0\n",
       "..          ...  ...  ...     ...       ...    ...     ...    ...   ...\n",
       "582  R504235701   39  3.0       2       3.0  240.0       1    0.0   0.0\n",
       "583  R504240804   26  4.0       2       5.0   50.0       1    0.0   0.0\n",
       "584  R504240805   22  3.0       2       5.0   90.0       0    0.0   0.0\n",
       "585  R504358101   39  4.0       2       4.0   30.0       0    0.0   0.0\n",
       "586  R504363202   38  3.0       2       3.0   40.0       1    0.0   0.0\n",
       "\n",
       "[586 rows x 9 columns]"
      ]
     },
     "execution_count": 177,
     "metadata": {},
     "output_type": "execute_result"
    }
   ],
   "source": [
    "# 진단 여부에 삭제할 항목이 있는지 확인\n",
    "print(x2_df.DF2_dg.unique())\n",
    "# 모두 진단 받은적 있음, 혹은 없음 으로 확인됨 -> 삭제할 id 없음\n",
    "df_all[\"정신질환\"] =df_all[\"DF2_dg\"]\n",
    "df_all = df_all.drop(columns= [\"DF2_dg\"],axis=1);df_all"
   ]
  },
  {
   "cell_type": "code",
   "execution_count": 178,
   "metadata": {
    "colab": {
     "base_uri": "https://localhost:8080/"
    },
    "id": "tH7hxlAFoPNN",
    "outputId": "70ae7744-40a1-45ae-db6f-f664b50b8eed"
   },
   "outputs": [
    {
     "name": "stdout",
     "output_type": "stream",
     "text": [
      "[4. 3. 5. 1. 2. 9.]\n"
     ]
    }
   ],
   "source": [
    "# 체형인식에 삭제할 항목이 있는지 확인\n",
    "print(df_all.BO1.unique())\n",
    "# 모름 으로 응답한 사람 지우기\n",
    "df_all.query(\"BO1 == '9'\")\n",
    "df_all = df_all[df_all.ID != 'A521256103']"
   ]
  },
  {
   "cell_type": "code",
   "execution_count": 179,
   "metadata": {
    "id": "4NllpTByCF3e"
   },
   "outputs": [],
   "source": [
    "df_all = df_all.reset_index().drop(columns = [\"index\"])"
   ]
  },
  {
   "cell_type": "code",
   "execution_count": 180,
   "metadata": {
    "id": "u0Ro98Nzrc4b"
   },
   "outputs": [],
   "source": [
    "# #region dummy\n",
    "d = {\"region\"+str(i):[] for i in range(2)}\n",
    "for i in df_all[\"region\"]:\n",
    "    temp = list(bin(i)[2:].zfill(2))\n",
    "    for i in range(2):\n",
    "        d[\"region\"+str(i)].append(temp[i])\n",
    "\n",
    "region_df = pd.DataFrame(d)\n",
    "region_df\n",
    "df_all=pd.concat([df_all,region_df],axis=1)"
   ]
  },
  {
   "cell_type": "code",
   "execution_count": 181,
   "metadata": {
    "colab": {
     "base_uri": "https://localhost:8080/"
    },
    "id": "myoL7K0FBNOg",
    "outputId": "a07cd1e0-4c43-4d4b-e8ff-cd3733fdb59c"
   },
   "outputs": [
    {
     "data": {
      "text/plain": [
       "585"
      ]
     },
     "execution_count": 181,
     "metadata": {},
     "output_type": "execute_result"
    }
   ],
   "source": [
    "df_all.ID.nunique()"
   ]
  },
  {
   "cell_type": "code",
   "execution_count": 183,
   "metadata": {
    "id": "st1HCHmOrLVl"
   },
   "outputs": [],
   "source": [
    "df_all = df_all.rename({\"region0\" : \"기타지역\", \"region1\" : \"광역시\", \"BO1\" : \"주관적 체형인식\", \"ho_incm5\": \"가구소득\"},axis=1)\n",
    "df_all = df_all.drop(columns = [\"region\"])"
   ]
  },
  {
   "cell_type": "code",
   "execution_count": 185,
   "metadata": {
    "colab": {
     "base_uri": "https://localhost:8080/",
     "height": 81
    },
    "id": "tdm2edDVFSg0",
    "outputId": "6d9ad0de-c389-4f90-8fdb-7ef45b7b6a0b"
   },
   "outputs": [
    {
     "data": {
      "text/html": [
       "<div>\n",
       "<style scoped>\n",
       "    .dataframe tbody tr th:only-of-type {\n",
       "        vertical-align: middle;\n",
       "    }\n",
       "\n",
       "    .dataframe tbody tr th {\n",
       "        vertical-align: top;\n",
       "    }\n",
       "\n",
       "    .dataframe thead th {\n",
       "        text-align: right;\n",
       "    }\n",
       "</style>\n",
       "<table border=\"1\" class=\"dataframe\">\n",
       "  <thead>\n",
       "    <tr style=\"text-align: right;\">\n",
       "      <th></th>\n",
       "      <th>심혈관질환</th>\n",
       "      <th>정신질환</th>\n",
       "      <th>수도권거주인수</th>\n",
       "      <th>광역시거주인수</th>\n",
       "      <th>기타지역거주인수</th>\n",
       "    </tr>\n",
       "  </thead>\n",
       "  <tbody>\n",
       "    <tr>\n",
       "      <th>인원수(명)</th>\n",
       "      <td>24</td>\n",
       "      <td>16</td>\n",
       "      <td>306</td>\n",
       "      <td>132</td>\n",
       "      <td>147</td>\n",
       "    </tr>\n",
       "  </tbody>\n",
       "</table>\n",
       "</div>"
      ],
      "text/plain": [
       "        심혈관질환  정신질환  수도권거주인수  광역시거주인수  기타지역거주인수\n",
       "인원수(명)     24    16      306      132       147"
      ]
     },
     "execution_count": 185,
     "metadata": {},
     "output_type": "execute_result"
    }
   ],
   "source": [
    "# 심혈관질환\t정신질환\t수도권거주인수\t광역시거주인수\t기타지역거주인수\n",
    "df_count=pd.DataFrame({\"심혈관질환\" : int(df_all.심혈관질환.sum()), \"정신질환\" : int(df_all.정신질환.sum()),\n",
    "              \"수도권거주인수\" : df_all.query(\"기타지역 == '0' & 광역시 =='0'\")[\"운동량\"].count(),\n",
    "              \"광역시거주인수\" : df_all.query(\"기타지역 == '0' & 광역시 =='1'\")[\"운동량\"].count(),\n",
    "              \"기타지역거주인수\" :df_all.query(\"기타지역 == '1' & 광역시 =='0'\")[\"운동량\"].count()}, index = ['인원수(명)'])\n",
    "df_count"
   ]
  },
  {
   "cell_type": "code",
   "execution_count": 186,
   "metadata": {
    "colab": {
     "base_uri": "https://localhost:8080/",
     "height": 584
    },
    "id": "Fmwrp7ulAzmv",
    "outputId": "bfe6bd92-ec02-4d8b-d286-e8745969db43"
   },
   "outputs": [
    {
     "data": {
      "text/html": [
       "<div>\n",
       "<style scoped>\n",
       "    .dataframe tbody tr th:only-of-type {\n",
       "        vertical-align: middle;\n",
       "    }\n",
       "\n",
       "    .dataframe tbody tr th {\n",
       "        vertical-align: top;\n",
       "    }\n",
       "\n",
       "    .dataframe thead th {\n",
       "        text-align: right;\n",
       "    }\n",
       "</style>\n",
       "<table border=\"1\" class=\"dataframe\">\n",
       "  <thead>\n",
       "    <tr style=\"text-align: right;\">\n",
       "      <th></th>\n",
       "      <th>ID</th>\n",
       "    </tr>\n",
       "    <tr>\n",
       "      <th>주관적 체형인식</th>\n",
       "      <th></th>\n",
       "    </tr>\n",
       "  </thead>\n",
       "  <tbody>\n",
       "    <tr>\n",
       "      <th>1.0</th>\n",
       "      <td>14</td>\n",
       "    </tr>\n",
       "    <tr>\n",
       "      <th>2.0</th>\n",
       "      <td>70</td>\n",
       "    </tr>\n",
       "    <tr>\n",
       "      <th>3.0</th>\n",
       "      <td>241</td>\n",
       "    </tr>\n",
       "    <tr>\n",
       "      <th>4.0</th>\n",
       "      <td>199</td>\n",
       "    </tr>\n",
       "    <tr>\n",
       "      <th>5.0</th>\n",
       "      <td>61</td>\n",
       "    </tr>\n",
       "  </tbody>\n",
       "</table>\n",
       "</div>"
      ],
      "text/plain": [
       "           ID\n",
       "주관적 체형인식     \n",
       "1.0        14\n",
       "2.0        70\n",
       "3.0       241\n",
       "4.0       199\n",
       "5.0        61"
      ]
     },
     "metadata": {},
     "output_type": "display_data"
    },
    {
     "data": {
      "text/html": [
       "<div>\n",
       "<style scoped>\n",
       "    .dataframe tbody tr th:only-of-type {\n",
       "        vertical-align: middle;\n",
       "    }\n",
       "\n",
       "    .dataframe tbody tr th {\n",
       "        vertical-align: top;\n",
       "    }\n",
       "\n",
       "    .dataframe thead th {\n",
       "        text-align: right;\n",
       "    }\n",
       "</style>\n",
       "<table border=\"1\" class=\"dataframe\">\n",
       "  <thead>\n",
       "    <tr style=\"text-align: right;\">\n",
       "      <th></th>\n",
       "      <th>ID</th>\n",
       "    </tr>\n",
       "    <tr>\n",
       "      <th>가구소득</th>\n",
       "      <th></th>\n",
       "    </tr>\n",
       "  </thead>\n",
       "  <tbody>\n",
       "    <tr>\n",
       "      <th>1.0</th>\n",
       "      <td>26</td>\n",
       "    </tr>\n",
       "    <tr>\n",
       "      <th>2.0</th>\n",
       "      <td>50</td>\n",
       "    </tr>\n",
       "    <tr>\n",
       "      <th>3.0</th>\n",
       "      <td>116</td>\n",
       "    </tr>\n",
       "    <tr>\n",
       "      <th>4.0</th>\n",
       "      <td>158</td>\n",
       "    </tr>\n",
       "    <tr>\n",
       "      <th>5.0</th>\n",
       "      <td>235</td>\n",
       "    </tr>\n",
       "  </tbody>\n",
       "</table>\n",
       "</div>"
      ],
      "text/plain": [
       "       ID\n",
       "가구소득     \n",
       "1.0    26\n",
       "2.0    50\n",
       "3.0   116\n",
       "4.0   158\n",
       "5.0   235"
      ]
     },
     "metadata": {},
     "output_type": "display_data"
    },
    {
     "data": {
      "text/html": [
       "<div>\n",
       "<style scoped>\n",
       "    .dataframe tbody tr th:only-of-type {\n",
       "        vertical-align: middle;\n",
       "    }\n",
       "\n",
       "    .dataframe tbody tr th {\n",
       "        vertical-align: top;\n",
       "    }\n",
       "\n",
       "    .dataframe thead th {\n",
       "        text-align: right;\n",
       "    }\n",
       "</style>\n",
       "<table border=\"1\" class=\"dataframe\">\n",
       "  <thead>\n",
       "    <tr style=\"text-align: right;\">\n",
       "      <th></th>\n",
       "      <th>ID</th>\n",
       "    </tr>\n",
       "    <tr>\n",
       "      <th>female</th>\n",
       "      <th></th>\n",
       "    </tr>\n",
       "  </thead>\n",
       "  <tbody>\n",
       "    <tr>\n",
       "      <th>0</th>\n",
       "      <td>348</td>\n",
       "    </tr>\n",
       "    <tr>\n",
       "      <th>1</th>\n",
       "      <td>237</td>\n",
       "    </tr>\n",
       "  </tbody>\n",
       "</table>\n",
       "</div>"
      ],
      "text/plain": [
       "         ID\n",
       "female     \n",
       "0       348\n",
       "1       237"
      ]
     },
     "metadata": {},
     "output_type": "display_data"
    }
   ],
   "source": [
    "df_count_body=pd.DataFrame(df_all.groupby(\"주관적 체형인식\").ID.size());display(df_count_body)\n",
    "df_count_income = pd.DataFrame(df_all.groupby(\"가구소득\").ID.size());display(df_count_income)\n",
    "df_count_gender=pd.DataFrame(df_all.groupby(\"female\").ID.size());display(df_count_gender)"
   ]
  },
  {
   "cell_type": "code",
   "execution_count": 187,
   "metadata": {
    "colab": {
     "base_uri": "https://localhost:8080/",
     "height": 584
    },
    "id": "ymO8yjtwEsAE",
    "outputId": "a1b2f907-b4c7-4846-d906-7907657935be"
   },
   "outputs": [
    {
     "data": {
      "text/html": [
       "<div>\n",
       "<style scoped>\n",
       "    .dataframe tbody tr th:only-of-type {\n",
       "        vertical-align: middle;\n",
       "    }\n",
       "\n",
       "    .dataframe tbody tr th {\n",
       "        vertical-align: top;\n",
       "    }\n",
       "\n",
       "    .dataframe thead th {\n",
       "        text-align: right;\n",
       "    }\n",
       "</style>\n",
       "<table border=\"1\" class=\"dataframe\">\n",
       "  <thead>\n",
       "    <tr style=\"text-align: right;\">\n",
       "      <th></th>\n",
       "      <th>ID비율</th>\n",
       "    </tr>\n",
       "    <tr>\n",
       "      <th>female</th>\n",
       "      <th></th>\n",
       "    </tr>\n",
       "  </thead>\n",
       "  <tbody>\n",
       "    <tr>\n",
       "      <th>0</th>\n",
       "      <td>0.594872</td>\n",
       "    </tr>\n",
       "    <tr>\n",
       "      <th>1</th>\n",
       "      <td>0.405128</td>\n",
       "    </tr>\n",
       "  </tbody>\n",
       "</table>\n",
       "</div>"
      ],
      "text/plain": [
       "            ID비율\n",
       "female          \n",
       "0       0.594872\n",
       "1       0.405128"
      ]
     },
     "metadata": {},
     "output_type": "display_data"
    },
    {
     "data": {
      "text/html": [
       "<div>\n",
       "<style scoped>\n",
       "    .dataframe tbody tr th:only-of-type {\n",
       "        vertical-align: middle;\n",
       "    }\n",
       "\n",
       "    .dataframe tbody tr th {\n",
       "        vertical-align: top;\n",
       "    }\n",
       "\n",
       "    .dataframe thead th {\n",
       "        text-align: right;\n",
       "    }\n",
       "</style>\n",
       "<table border=\"1\" class=\"dataframe\">\n",
       "  <thead>\n",
       "    <tr style=\"text-align: right;\">\n",
       "      <th></th>\n",
       "      <th>ID비율</th>\n",
       "    </tr>\n",
       "    <tr>\n",
       "      <th>가구소득</th>\n",
       "      <th></th>\n",
       "    </tr>\n",
       "  </thead>\n",
       "  <tbody>\n",
       "    <tr>\n",
       "      <th>1.0</th>\n",
       "      <td>0.044444</td>\n",
       "    </tr>\n",
       "    <tr>\n",
       "      <th>2.0</th>\n",
       "      <td>0.085470</td>\n",
       "    </tr>\n",
       "    <tr>\n",
       "      <th>3.0</th>\n",
       "      <td>0.198291</td>\n",
       "    </tr>\n",
       "    <tr>\n",
       "      <th>4.0</th>\n",
       "      <td>0.270085</td>\n",
       "    </tr>\n",
       "    <tr>\n",
       "      <th>5.0</th>\n",
       "      <td>0.401709</td>\n",
       "    </tr>\n",
       "  </tbody>\n",
       "</table>\n",
       "</div>"
      ],
      "text/plain": [
       "          ID비율\n",
       "가구소득          \n",
       "1.0   0.044444\n",
       "2.0   0.085470\n",
       "3.0   0.198291\n",
       "4.0   0.270085\n",
       "5.0   0.401709"
      ]
     },
     "metadata": {},
     "output_type": "display_data"
    },
    {
     "data": {
      "text/html": [
       "<div>\n",
       "<style scoped>\n",
       "    .dataframe tbody tr th:only-of-type {\n",
       "        vertical-align: middle;\n",
       "    }\n",
       "\n",
       "    .dataframe tbody tr th {\n",
       "        vertical-align: top;\n",
       "    }\n",
       "\n",
       "    .dataframe thead th {\n",
       "        text-align: right;\n",
       "    }\n",
       "</style>\n",
       "<table border=\"1\" class=\"dataframe\">\n",
       "  <thead>\n",
       "    <tr style=\"text-align: right;\">\n",
       "      <th></th>\n",
       "      <th>ID비율</th>\n",
       "    </tr>\n",
       "    <tr>\n",
       "      <th>주관적 체형인식</th>\n",
       "      <th></th>\n",
       "    </tr>\n",
       "  </thead>\n",
       "  <tbody>\n",
       "    <tr>\n",
       "      <th>1.0</th>\n",
       "      <td>0.023932</td>\n",
       "    </tr>\n",
       "    <tr>\n",
       "      <th>2.0</th>\n",
       "      <td>0.119658</td>\n",
       "    </tr>\n",
       "    <tr>\n",
       "      <th>3.0</th>\n",
       "      <td>0.411966</td>\n",
       "    </tr>\n",
       "    <tr>\n",
       "      <th>4.0</th>\n",
       "      <td>0.340171</td>\n",
       "    </tr>\n",
       "    <tr>\n",
       "      <th>5.0</th>\n",
       "      <td>0.104274</td>\n",
       "    </tr>\n",
       "  </tbody>\n",
       "</table>\n",
       "</div>"
      ],
      "text/plain": [
       "              ID비율\n",
       "주관적 체형인식          \n",
       "1.0       0.023932\n",
       "2.0       0.119658\n",
       "3.0       0.411966\n",
       "4.0       0.340171\n",
       "5.0       0.104274"
      ]
     },
     "metadata": {},
     "output_type": "display_data"
    }
   ],
   "source": [
    "allcount=df_all.ID.nunique()\n",
    "df_ratio = pd.DataFrame()\n",
    "df_ratio_body= pd.DataFrame()\n",
    "df_ratio_gender= pd.DataFrame()\n",
    "df_ratio_income= pd.DataFrame()\n",
    "\n",
    "# for col in list(df1.columns):\n",
    "#     df_ratio[col+\"비율\"]=df1[col]/allcount\n",
    "\n",
    "for col in list(df_count_body.columns) :\n",
    "    df_ratio_body[col+\"비율\"]=df_count_body[col]/allcount\n",
    "\n",
    "for col in list(df_count_income.columns) :\n",
    "    df_ratio_income[col+\"비율\"]=df_count_income[col]/allcount\n",
    "\n",
    "for col in list(df_count_gender.columns) :\n",
    "    df_ratio_gender[col+\"비율\"]=df_count_gender[col]/allcount\n",
    "\n",
    "display(df_ratio_gender)\n",
    "display(df_ratio_income)\n",
    "display(df_ratio_body)\n",
    "\n"
   ]
  },
  {
   "cell_type": "code",
   "execution_count": 208,
   "metadata": {},
   "outputs": [
    {
     "data": {
      "text/plain": [
       "585"
      ]
     },
     "execution_count": 208,
     "metadata": {},
     "output_type": "execute_result"
    }
   ],
   "source": [
    "allcount"
   ]
  },
  {
   "cell_type": "code",
   "execution_count": 188,
   "metadata": {
    "id": "dpCkgwkAHsf2"
   },
   "outputs": [
    {
     "data": {
      "text/html": [
       "<div>\n",
       "<style scoped>\n",
       "    .dataframe tbody tr th:only-of-type {\n",
       "        vertical-align: middle;\n",
       "    }\n",
       "\n",
       "    .dataframe tbody tr th {\n",
       "        vertical-align: top;\n",
       "    }\n",
       "\n",
       "    .dataframe thead th {\n",
       "        text-align: right;\n",
       "    }\n",
       "</style>\n",
       "<table border=\"1\" class=\"dataframe\">\n",
       "  <thead>\n",
       "    <tr style=\"text-align: right;\">\n",
       "      <th></th>\n",
       "      <th>심혈관질환비율</th>\n",
       "      <th>정신질환비율</th>\n",
       "      <th>수도권거주인수비율</th>\n",
       "      <th>광역시거주인수비율</th>\n",
       "      <th>기타지역거주인수비율</th>\n",
       "    </tr>\n",
       "  </thead>\n",
       "  <tbody>\n",
       "    <tr>\n",
       "      <th>인원수(명)</th>\n",
       "      <td>0.041026</td>\n",
       "      <td>0.02735</td>\n",
       "      <td>0.523077</td>\n",
       "      <td>0.225641</td>\n",
       "      <td>0.251282</td>\n",
       "    </tr>\n",
       "  </tbody>\n",
       "</table>\n",
       "</div>"
      ],
      "text/plain": [
       "         심혈관질환비율   정신질환비율  수도권거주인수비율  광역시거주인수비율  기타지역거주인수비율\n",
       "인원수(명)  0.041026  0.02735   0.523077   0.225641    0.251282"
      ]
     },
     "metadata": {},
     "output_type": "display_data"
    }
   ],
   "source": [
    "allcount=df_all.ID.nunique()\n",
    "df_ratio = pd.DataFrame()\n",
    "\n",
    "for col in list(df_count.columns):\n",
    "    df_ratio[col+\"비율\"]=df_count[col]/allcount\n",
    "\n",
    "display(df_ratio)"
   ]
  },
  {
   "cell_type": "code",
   "execution_count": 189,
   "metadata": {},
   "outputs": [],
   "source": [
    "df_all.drop(columns = [\"ID\"],inplace=True)\n",
    "df_all = df_all[[\"운동량\",\"심혈관질환\",\"정신질환\",\"주관적 체형인식\",\"기타지역\",\"광역시\",\"female\",\"가구소득\"]]"
   ]
  },
  {
   "cell_type": "code",
   "execution_count": 191,
   "metadata": {
    "scrolled": true
   },
   "outputs": [
    {
     "name": "stderr",
     "output_type": "stream",
     "text": [
      "<ipython-input-191-a7904d2cf541>:1: SettingWithCopyWarning: \n",
      "A value is trying to be set on a copy of a slice from a DataFrame.\n",
      "Try using .loc[row_indexer,col_indexer] = value instead\n",
      "\n",
      "See the caveats in the documentation: https://pandas.pydata.org/pandas-docs/stable/user_guide/indexing.html#returning-a-view-versus-a-copy\n",
      "  df_all[\"운동량\"] = df_all[\"운동량\"]/60\n"
     ]
    }
   ],
   "source": [
    "df_all[\"운동량\"] = df_all[\"운동량\"]/60"
   ]
  },
  {
   "cell_type": "code",
   "execution_count": 194,
   "metadata": {},
   "outputs": [],
   "source": [
    "df_all.to_csv(\"finalfinal_dfyoung(2).csv\", index= False)"
   ]
  },
  {
   "cell_type": "code",
   "execution_count": 193,
   "metadata": {},
   "outputs": [
    {
     "data": {
      "text/plain": [
       "3.4099715099715113"
      ]
     },
     "execution_count": 193,
     "metadata": {},
     "output_type": "execute_result"
    }
   ],
   "source": [
    "#운동량 평균\n",
    "df_all.운동량.mean()"
   ]
  },
  {
   "cell_type": "code",
   "execution_count": 195,
   "metadata": {},
   "outputs": [
    {
     "data": {
      "text/plain": [
       "2.9711673699015466"
      ]
     },
     "execution_count": 195,
     "metadata": {},
     "output_type": "execute_result"
    }
   ],
   "source": [
    "df_all.query(\"female==1\").운동량.mean()"
   ]
  },
  {
   "cell_type": "code",
   "execution_count": 196,
   "metadata": {},
   "outputs": [
    {
     "data": {
      "text/plain": [
       "3.7088122605363987"
      ]
     },
     "execution_count": 196,
     "metadata": {},
     "output_type": "execute_result"
    }
   ],
   "source": [
    "df_all.query(\"female==0\").운동량.mean()"
   ]
  },
  {
   "cell_type": "code",
   "execution_count": 199,
   "metadata": {},
   "outputs": [
    {
     "name": "stdout",
     "output_type": "stream",
     "text": [
      "3.548611111111111\n",
      "3.4040404040404058\n"
     ]
    }
   ],
   "source": [
    "print(df_all.query(\"심혈관질환 ==1.0\").운동량.mean())\n",
    "print(df_all.query(\"심혈관질환 ==0.0\").운동량.mean())"
   ]
  },
  {
   "cell_type": "code",
   "execution_count": 200,
   "metadata": {},
   "outputs": [
    {
     "name": "stdout",
     "output_type": "stream",
     "text": [
      "2.2656249999999996\n",
      "3.4421499707088477\n"
     ]
    }
   ],
   "source": [
    "print(df_all.query(\"정신질환 ==1.0\").운동량.mean())\n",
    "print(df_all.query(\"정신질환 ==0.0\").운동량.mean())"
   ]
  },
  {
   "cell_type": "code",
   "execution_count": 201,
   "metadata": {},
   "outputs": [
    {
     "name": "stdout",
     "output_type": "stream",
     "text": [
      "3.0595238095238093\n",
      "3.0738095238095235\n",
      "3.498616874135546\n",
      "3.489530988274707\n",
      "3.2663934426229506\n"
     ]
    }
   ],
   "source": [
    "print(df_all[df_all[\"주관적 체형인식\"]==1.0].운동량.mean())\n",
    "print(df_all[df_all[\"주관적 체형인식\"]==2.0].운동량.mean())\n",
    "print(df_all[df_all[\"주관적 체형인식\"]==3.0].운동량.mean())\n",
    "print(df_all[df_all[\"주관적 체형인식\"]==4.0].운동량.mean())\n",
    "print(df_all[df_all[\"주관적 체형인식\"]==5.0].운동량.mean())"
   ]
  },
  {
   "cell_type": "code",
   "execution_count": 202,
   "metadata": {},
   "outputs": [
    {
     "name": "stdout",
     "output_type": "stream",
     "text": [
      "3.0974945533769063\n",
      "3.617346938775509\n",
      "3.90340909090909\n"
     ]
    }
   ],
   "source": [
    "print(df_all.query(\"기타지역 =='0'and 광역시 =='0'\").운동량.mean())\n",
    "print(df_all.query(\"기타지역 =='1'and 광역시 =='0'\").운동량.mean())\n",
    "print(df_all.query(\"기타지역 =='0'and 광역시 =='1'\").운동량.mean())"
   ]
  },
  {
   "cell_type": "code",
   "execution_count": 203,
   "metadata": {},
   "outputs": [
    {
     "name": "stdout",
     "output_type": "stream",
     "text": [
      "4.176282051282052\n",
      "3.56\n",
      "3.0007183908045985\n",
      "3.3670886075949373\n",
      "3.5241134751773053\n"
     ]
    }
   ],
   "source": [
    "print(df_all[df_all[\"가구소득\"]==1.0].운동량.mean())\n",
    "print(df_all[df_all[\"가구소득\"]==2.0].운동량.mean())\n",
    "print(df_all[df_all[\"가구소득\"]==3.0].운동량.mean())\n",
    "print(df_all[df_all[\"가구소득\"]==4.0].운동량.mean())\n",
    "print(df_all[df_all[\"가구소득\"]==5.0].운동량.mean())"
   ]
  }
 ],
 "metadata": {
  "colab": {
   "collapsed_sections": [],
   "name": "회귀분석eda.ipynb",
   "provenance": []
  },
  "kernelspec": {
   "display_name": "Python 3",
   "language": "python",
   "name": "python3"
  },
  "language_info": {
   "codemirror_mode": {
    "name": "ipython",
    "version": 3
   },
   "file_extension": ".py",
   "mimetype": "text/x-python",
   "name": "python",
   "nbconvert_exporter": "python",
   "pygments_lexer": "ipython3",
   "version": "3.8.8"
  }
 },
 "nbformat": 4,
 "nbformat_minor": 1
}
